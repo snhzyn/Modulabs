print('git 실습화이팅!')
