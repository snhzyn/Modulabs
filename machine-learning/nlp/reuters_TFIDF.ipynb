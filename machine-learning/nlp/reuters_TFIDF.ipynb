{
 "cells": [
  {
   "cell_type": "markdown",
   "id": "19a51912",
   "metadata": {},
   "source": [
    "# 뉴스 카테고리 다중분류: 로이터 뉴스 데이터\n",
    "\n",
    "reuters data는 총 46개의 클래스로 구성되며, 해당 뉴스가 어느 카테고리에 속하는지를 예측하기 위한 데이터."
   ]
  },
  {
   "cell_type": "markdown",
   "id": "9370014d",
   "metadata": {},
   "source": [
    "## 버전 확인"
   ]
  },
  {
   "cell_type": "code",
   "execution_count": 1,
   "id": "15c1cb42",
   "metadata": {},
   "outputs": [
    {
     "name": "stdout",
     "output_type": "stream",
     "text": [
      "2.10.1\n",
      "3.5.3\n",
      "0.13.2\n",
      "1.22.4\n",
      "1.3.5\n",
      "1.0.2\n"
     ]
    }
   ],
   "source": [
    "import tensorflow\n",
    "import matplotlib\n",
    "import seaborn \n",
    "import numpy \n",
    "import pandas\n",
    "import sklearn\n",
    "\n",
    "print(tensorflow.__version__)\n",
    "print(matplotlib.__version__)\n",
    "print(seaborn.__version__)\n",
    "print(numpy.__version__)\n",
    "print(pandas.__version__)\n",
    "print(sklearn.__version__)"
   ]
  },
  {
   "cell_type": "markdown",
   "id": "dacf7921",
   "metadata": {},
   "source": [
    "## 모든 단어 사용 (num_words = None)"
   ]
  },
  {
   "cell_type": "code",
   "execution_count": 2,
   "id": "a805cee9",
   "metadata": {},
   "outputs": [
    {
     "name": "stdout",
     "output_type": "stream",
     "text": [
      "훈련 샘플의 수: 8982\n",
      "테스트 샘플의 수: 2246\n"
     ]
    }
   ],
   "source": [
    "from tensorflow.keras.datasets import reuters\n",
    "\n",
    "(x_train, y_train), (x_test, y_test) = reuters.load_data(num_words=None, test_split=0.2)\n",
    "\n",
    "print('훈련 샘플의 수: {}'.format(len(x_train)))\n",
    "print('테스트 샘플의 수: {}'.format(len(x_test)))"
   ]
  },
  {
   "cell_type": "markdown",
   "id": "2c2d0913",
   "metadata": {},
   "source": [
    "### 벡터화(TF-IDF)"
   ]
  },
  {
   "cell_type": "code",
   "execution_count": 3,
   "id": "f912c9d4",
   "metadata": {},
   "outputs": [
    {
     "name": "stdout",
     "output_type": "stream",
     "text": [
      "훈련 데이터 shape:  (8982, 10000)\n",
      "테스트 데이터 shape:  (2246, 10000)\n"
     ]
    }
   ],
   "source": [
    "from tensorflow.keras.preprocessing.text import Tokenizer\n",
    "from sklearn.feature_extraction.text import TfidfTransformer\n",
    "\n",
    "# DTM 생성\n",
    "tokenizer = Tokenizer(num_words=10000)\n",
    "\n",
    "x_train_dtm = tokenizer.sequences_to_matrix(x_train, mode='count')\n",
    "x_test_dtm  = tokenizer.sequences_to_matrix(x_test, mode='count')\n",
    "\n",
    "print('훈련 데이터 shape: ', x_train_dtm.shape)\n",
    "print('테스트 데이터 shape: ', x_test_dtm.shape)\n"
   ]
  },
  {
   "cell_type": "code",
   "execution_count": 4,
   "id": "07cef475",
   "metadata": {},
   "outputs": [
    {
     "name": "stdout",
     "output_type": "stream",
     "text": [
      "훈련 데이터 shape:  (8982, 10000)\n",
      "테스트 데이터 shape:  (2246, 10000)\n"
     ]
    }
   ],
   "source": [
    "# TF-IDF 생성\n",
    "tfidf_transformer = TfidfTransformer()\n",
    "tfidfv = tfidf_transformer.fit_transform(x_train_dtm)\n",
    "tfidfv_test = tfidf_transformer.fit_transform(x_test_dtm)\n",
    "\n",
    "print('훈련 데이터 shape: ', tfidfv.shape)\n",
    "print('테스트 데이터 shape: ', tfidfv_test.shape)\n"
   ]
  },
  {
   "cell_type": "markdown",
   "id": "b06423c3",
   "metadata": {},
   "source": [
    "### 모델 적용\n",
    "\n",
    "LIST = {\n",
    "    Naive Bayes Classifier, \n",
    "    CNB, \n",
    "    Logistic Regression, \n",
    "    Linear Support vector Machine, \n",
    "    Decision Tree, \n",
    "    Random Forest, \n",
    "    Gradient Boosting, \n",
    "    Voting\n",
    "}"
   ]
  },
  {
   "cell_type": "code",
   "execution_count": null,
   "id": "56abc28f",
   "metadata": {},
   "outputs": [],
   "source": [
    "from sklearn.naive_bayes import MultinomialNB                       # Naive Bayes Classifier\n",
    "from sklearn.naive_bayes import ComplementNB                        # CNB\n",
    "from sklearn.linear_model import LogisticRegression, SGDClassifier  # Logistic Regression\n",
    "from sklearn.svm import LinearSVC                                   # Linear Support vector Machine\n",
    "from sklearn.tree import DecisionTreeClassifier                     # Decision Tree\n",
    "from sklearn.ensemble import RandomForestClassifier                 # Random Forest\n",
    "from sklearn.ensemble import GradientBoostingClassifier             # Gradient Boosting\n",
    "from sklearn.ensemble import VotingClassifier                       # Voting\n",
    "\n",
    "from sklearn.metrics import accuracy_score "
   ]
  },
  {
   "cell_type": "markdown",
   "id": "616140c8",
   "metadata": {},
   "source": [
    "#### Naive Bayes Classifier"
   ]
  },
  {
   "cell_type": "code",
   "execution_count": 8,
   "id": "5c709a98",
   "metadata": {},
   "outputs": [
    {
     "data": {
      "text/plain": [
       "MultinomialNB()"
      ]
     },
     "execution_count": 8,
     "metadata": {},
     "output_type": "execute_result"
    }
   ],
   "source": [
    "nb = MultinomialNB()\n",
    "nb.fit(tfidfv, y_train)"
   ]
  },
  {
   "cell_type": "code",
   "execution_count": 9,
   "id": "9ce26553",
   "metadata": {},
   "outputs": [
    {
     "name": "stdout",
     "output_type": "stream",
     "text": [
      "정확도: 0.6513802315227071\n"
     ]
    }
   ],
   "source": [
    "predicted = nb.predict(tfidfv_test) \n",
    "print(\"정확도:\", accuracy_score(y_test, predicted)) "
   ]
  },
  {
   "cell_type": "markdown",
   "id": "47978b64",
   "metadata": {},
   "source": [
    "#### CNB"
   ]
  },
  {
   "cell_type": "code",
   "execution_count": 10,
   "id": "864a1696",
   "metadata": {},
   "outputs": [
    {
     "data": {
      "text/plain": [
       "ComplementNB()"
      ]
     },
     "execution_count": 10,
     "metadata": {},
     "output_type": "execute_result"
    }
   ],
   "source": [
    "cb = ComplementNB()\n",
    "cb.fit(tfidfv, y_train)"
   ]
  },
  {
   "cell_type": "code",
   "execution_count": 11,
   "id": "c35ce9d3",
   "metadata": {},
   "outputs": [
    {
     "name": "stdout",
     "output_type": "stream",
     "text": [
      "정확도: 0.7720391807658059\n"
     ]
    }
   ],
   "source": [
    "predicted = cb.predict(tfidfv_test) \n",
    "print(\"정확도:\", accuracy_score(y_test, predicted)) "
   ]
  },
  {
   "cell_type": "markdown",
   "id": "f0c3bb48",
   "metadata": {},
   "source": [
    "#### Logistic Regression"
   ]
  },
  {
   "cell_type": "code",
   "execution_count": null,
   "id": "a259067e",
   "metadata": {},
   "outputs": [
    {
     "data": {
      "text/plain": [
       "LogisticRegression(C=1, max_iter=3000)"
      ]
     },
     "execution_count": 12,
     "metadata": {},
     "output_type": "execute_result"
    }
   ],
   "source": [
    "# lr = LogisticRegression(C=1, penalty='l2', max_iter=3000)       # C = 1\n",
    "# lr.fit(tfidfv, y_train)"
   ]
  },
  {
   "cell_type": "code",
   "execution_count": null,
   "id": "b4222d20",
   "metadata": {},
   "outputs": [
    {
     "name": "stdout",
     "output_type": "stream",
     "text": [
      "정확도: 0.7929652715939448\n"
     ]
    }
   ],
   "source": [
    "# predicted = lr.predict(tfidfv_test) \n",
    "# print(\"정확도:\", accuracy_score(y_test, predicted)) \n",
    "\n",
    "# 정확도: 0.7929652715939448"
   ]
  },
  {
   "cell_type": "code",
   "execution_count": null,
   "id": "130f9a31",
   "metadata": {},
   "outputs": [
    {
     "data": {
      "text/plain": [
       "LogisticRegression(C=3, max_iter=3000)"
      ]
     },
     "execution_count": 14,
     "metadata": {},
     "output_type": "execute_result"
    }
   ],
   "source": [
    "# lr = LogisticRegression(C=3, penalty='l2', max_iter=3000)       # C = 3\n",
    "# lr.fit(tfidfv, y_train)"
   ]
  },
  {
   "cell_type": "code",
   "execution_count": null,
   "id": "13a1eb8d",
   "metadata": {},
   "outputs": [
    {
     "name": "stdout",
     "output_type": "stream",
     "text": [
      "정확도: 0.8250222617987534\n"
     ]
    }
   ],
   "source": [
    "# predicted = lr.predict(tfidfv_test) \n",
    "# print(\"정확도:\", accuracy_score(y_test, predicted)) \n",
    "\n",
    "# 정확도: 0.8232413178984862\n"
   ]
  },
  {
   "cell_type": "code",
   "execution_count": 16,
   "id": "47da0acb",
   "metadata": {},
   "outputs": [
    {
     "data": {
      "text/plain": [
       "LogisticRegression(C=5, max_iter=3000)"
      ]
     },
     "execution_count": 16,
     "metadata": {},
     "output_type": "execute_result"
    }
   ],
   "source": [
    "lr = LogisticRegression(C=5, penalty='l2', max_iter=3000)       # C = 5\n",
    "lr.fit(tfidfv, y_train)"
   ]
  },
  {
   "cell_type": "code",
   "execution_count": null,
   "id": "52d03df7",
   "metadata": {},
   "outputs": [
    {
     "name": "stdout",
     "output_type": "stream",
     "text": [
      "정확도: 0.8250222617987534\n"
     ]
    }
   ],
   "source": [
    "predicted = lr.predict(tfidfv_test) \n",
    "print(\"정확도:\", accuracy_score(y_test, predicted)) "
   ]
  },
  {
   "cell_type": "markdown",
   "id": "727af3fa",
   "metadata": {},
   "source": [
    "#### Linear Support vector Machine"
   ]
  },
  {
   "cell_type": "code",
   "execution_count": 18,
   "id": "080863ae",
   "metadata": {},
   "outputs": [
    {
     "data": {
      "text/plain": [
       "LinearSVC(C=1, dual=False, max_iter=3000, penalty='l1')"
      ]
     },
     "execution_count": 18,
     "metadata": {},
     "output_type": "execute_result"
    }
   ],
   "source": [
    "lsvc = LinearSVC(C=1, penalty='l1', max_iter=3000, dual=False)  # C = 1, penalty = l1\n",
    "lsvc.fit(tfidfv, y_train)"
   ]
  },
  {
   "cell_type": "code",
   "execution_count": 19,
   "id": "b5811d62",
   "metadata": {},
   "outputs": [
    {
     "name": "stdout",
     "output_type": "stream",
     "text": [
      "정확도: 0.8379341050756901\n"
     ]
    }
   ],
   "source": [
    "predicted = lsvc.predict(tfidfv_test) \n",
    "print(\"정확도:\", accuracy_score(y_test, predicted)) "
   ]
  },
  {
   "cell_type": "code",
   "execution_count": null,
   "id": "f458f202",
   "metadata": {},
   "outputs": [
    {
     "data": {
      "text/plain": [
       "LinearSVC(C=1, dual=False, max_iter=3000)"
      ]
     },
     "execution_count": 20,
     "metadata": {},
     "output_type": "execute_result"
    }
   ],
   "source": [
    "# lsvc = LinearSVC(C=1, penalty='l2', max_iter=3000, dual=False)  # C = 1, penalty = l2\n",
    "# lsvc.fit(tfidfv, y_train)"
   ]
  },
  {
   "cell_type": "code",
   "execution_count": null,
   "id": "d98d345c",
   "metadata": {},
   "outputs": [
    {
     "name": "stdout",
     "output_type": "stream",
     "text": [
      "정확도: 0.8285841495992876\n"
     ]
    }
   ],
   "source": [
    "# predicted = lsvc.predict(tfidfv_test) \n",
    "# print(\"정확도:\", accuracy_score(y_test, predicted)) \n",
    "\n",
    "# 정확도: 0.8285841495992876"
   ]
  },
  {
   "cell_type": "code",
   "execution_count": null,
   "id": "407f3e70",
   "metadata": {},
   "outputs": [
    {
     "data": {
      "text/plain": [
       "LinearSVC(C=3, dual=False, max_iter=3000, penalty='l1')"
      ]
     },
     "execution_count": 22,
     "metadata": {},
     "output_type": "execute_result"
    }
   ],
   "source": [
    "# lsvc = LinearSVC(C=3, penalty='l1', max_iter=3000, dual=False)  # C = 3, penalty = l1\n",
    "# lsvc.fit(tfidfv, y_train)"
   ]
  },
  {
   "cell_type": "code",
   "execution_count": null,
   "id": "6c1813d8",
   "metadata": {},
   "outputs": [
    {
     "name": "stdout",
     "output_type": "stream",
     "text": [
      "정확도: 0.8147818343722173\n"
     ]
    }
   ],
   "source": [
    "# predicted = lsvc.predict(tfidfv_test) \n",
    "# print(\"정확도:\", accuracy_score(y_test, predicted)) \n",
    "\n",
    "# 정확도: 0.8147818343722173"
   ]
  },
  {
   "cell_type": "code",
   "execution_count": null,
   "id": "88d3aa5b",
   "metadata": {},
   "outputs": [
    {
     "data": {
      "text/plain": [
       "LinearSVC(C=3, dual=False, max_iter=3000)"
      ]
     },
     "execution_count": 24,
     "metadata": {},
     "output_type": "execute_result"
    }
   ],
   "source": [
    "# lsvc = LinearSVC(C=3, penalty='l2', max_iter=3000, dual=False)  # C = 3, penalty = l2\n",
    "# lsvc.fit(tfidfv, y_train)"
   ]
  },
  {
   "cell_type": "code",
   "execution_count": null,
   "id": "52a6d3fb",
   "metadata": {},
   "outputs": [
    {
     "name": "stdout",
     "output_type": "stream",
     "text": [
      "정확도: 0.8210151380231523\n"
     ]
    }
   ],
   "source": [
    "# predicted = lsvc.predict(tfidfv_test) \n",
    "# print(\"정확도:\", accuracy_score(y_test, predicted)) \n",
    "\n",
    "# 정확도: 0.8210151380231523"
   ]
  },
  {
   "cell_type": "code",
   "execution_count": null,
   "id": "e97fb5db",
   "metadata": {},
   "outputs": [
    {
     "data": {
      "text/plain": [
       "LinearSVC(C=5, dual=False, max_iter=3000, penalty='l1')"
      ]
     },
     "execution_count": 26,
     "metadata": {},
     "output_type": "execute_result"
    }
   ],
   "source": [
    "# lsvc = LinearSVC(C=5, penalty='l1', max_iter=3000, dual=False)  # C = 5, penalty = l1\n",
    "# lsvc.fit(tfidfv, y_train)"
   ]
  },
  {
   "cell_type": "code",
   "execution_count": null,
   "id": "cff51cce",
   "metadata": {},
   "outputs": [
    {
     "name": "stdout",
     "output_type": "stream",
     "text": [
      "정확도: 0.808993766696349\n"
     ]
    }
   ],
   "source": [
    "# predicted = lsvc.predict(tfidfv_test) \n",
    "# print(\"정확도:\", accuracy_score(y_test, predicted)) \n",
    "\n",
    "# 정확도: 0.808993766696349"
   ]
  },
  {
   "cell_type": "code",
   "execution_count": null,
   "id": "0572fbd6",
   "metadata": {},
   "outputs": [
    {
     "data": {
      "text/plain": [
       "LinearSVC(C=5, dual=False, max_iter=3000)"
      ]
     },
     "execution_count": 28,
     "metadata": {},
     "output_type": "execute_result"
    }
   ],
   "source": [
    "# lsvc = LinearSVC(C=5, penalty='l2', max_iter=3000, dual=False)  # C = 5, penalty = l2\n",
    "# lsvc.fit(tfidfv, y_train)"
   ]
  },
  {
   "cell_type": "code",
   "execution_count": null,
   "id": "b0609d50",
   "metadata": {},
   "outputs": [
    {
     "name": "stdout",
     "output_type": "stream",
     "text": [
      "정확도: 0.8161175422974176\n"
     ]
    }
   ],
   "source": [
    "# predicted = lsvc.predict(tfidfv_test) \n",
    "# print(\"정확도:\", accuracy_score(y_test, predicted)) \n",
    "\n",
    "# 정확도: 0.8161175422974176"
   ]
  },
  {
   "cell_type": "markdown",
   "id": "eb183144",
   "metadata": {},
   "source": [
    "#### Decision Tree"
   ]
  },
  {
   "cell_type": "code",
   "execution_count": 31,
   "id": "ac16ce0b",
   "metadata": {},
   "outputs": [
    {
     "data": {
      "text/plain": [
       "DecisionTreeClassifier(max_depth=10, random_state=0)"
      ]
     },
     "execution_count": 31,
     "metadata": {},
     "output_type": "execute_result"
    }
   ],
   "source": [
    "tree = DecisionTreeClassifier(max_depth=10, random_state=0)\n",
    "tree.fit(tfidfv, y_train)"
   ]
  },
  {
   "cell_type": "code",
   "execution_count": 32,
   "id": "7a64f72f",
   "metadata": {},
   "outputs": [
    {
     "name": "stdout",
     "output_type": "stream",
     "text": [
      "정확도: 0.6095280498664292\n"
     ]
    }
   ],
   "source": [
    "predicted = tree.predict(tfidfv_test) \n",
    "print(\"정확도:\", accuracy_score(y_test, predicted)) "
   ]
  },
  {
   "cell_type": "markdown",
   "id": "95ce2be0",
   "metadata": {},
   "source": [
    "#### Random Forest"
   ]
  },
  {
   "cell_type": "code",
   "execution_count": null,
   "id": "15ada7ba",
   "metadata": {},
   "outputs": [
    {
     "data": {
      "text/plain": [
       "RandomForestClassifier(max_depth=50, random_state=0)"
      ]
     },
     "execution_count": 33,
     "metadata": {},
     "output_type": "execute_result"
    }
   ],
   "source": [
    "# forest = RandomForestClassifier(        # n_estimators = 100\n",
    "#     n_estimators = 100,\n",
    "#     max_depth = 50, \n",
    "#     random_state = 0\n",
    "#     )\n",
    "# forest.fit(tfidfv, y_train)"
   ]
  },
  {
   "cell_type": "code",
   "execution_count": null,
   "id": "436545fe",
   "metadata": {},
   "outputs": [
    {
     "name": "stdout",
     "output_type": "stream",
     "text": [
      "정확도: 0.7533392698130009\n"
     ]
    }
   ],
   "source": [
    "# predicted = forest.predict(tfidfv_test) \n",
    "# print(\"정확도:\", accuracy_score(y_test, predicted)) \n",
    "\n",
    "# 정확도: 0.7533392698130009"
   ]
  },
  {
   "cell_type": "code",
   "execution_count": null,
   "id": "f41c665e",
   "metadata": {},
   "outputs": [
    {
     "data": {
      "text/plain": [
       "RandomForestClassifier(max_depth=50, n_estimators=200, random_state=0)"
      ]
     },
     "execution_count": 35,
     "metadata": {},
     "output_type": "execute_result"
    }
   ],
   "source": [
    "# forest = RandomForestClassifier(        # n_estimators = 200\n",
    "#     n_estimators = 200, \n",
    "#     max_depth = 50, \n",
    "#     random_state = 0\n",
    "#     )\n",
    "# forest.fit(tfidfv, y_train)"
   ]
  },
  {
   "cell_type": "code",
   "execution_count": null,
   "id": "cd35786a",
   "metadata": {},
   "outputs": [
    {
     "name": "stdout",
     "output_type": "stream",
     "text": [
      "정확도: 0.7582368655387355\n"
     ]
    }
   ],
   "source": [
    "# predicted = forest.predict(tfidfv_test) \n",
    "# print(\"정확도:\", accuracy_score(y_test, predicted)) \n",
    "\n",
    "# 정확도: 0.7582368655387355"
   ]
  },
  {
   "cell_type": "code",
   "execution_count": 37,
   "id": "a01c6100",
   "metadata": {},
   "outputs": [
    {
     "data": {
      "text/plain": [
       "RandomForestClassifier(max_depth=50, n_estimators=300, random_state=0)"
      ]
     },
     "execution_count": 37,
     "metadata": {},
     "output_type": "execute_result"
    }
   ],
   "source": [
    "forest = RandomForestClassifier(        # n_estimators = 300\n",
    "    n_estimators = 300, \n",
    "    max_depth = 50, \n",
    "    random_state = 0\n",
    "    )\n",
    "forest.fit(tfidfv, y_train)"
   ]
  },
  {
   "cell_type": "code",
   "execution_count": 38,
   "id": "69f61ea5",
   "metadata": {},
   "outputs": [
    {
     "name": "stdout",
     "output_type": "stream",
     "text": [
      "정확도: 0.7604630454140695\n"
     ]
    }
   ],
   "source": [
    "predicted = forest.predict(tfidfv_test) \n",
    "print(\"정확도:\", accuracy_score(y_test, predicted)) "
   ]
  },
  {
   "cell_type": "markdown",
   "id": "b1fc3994",
   "metadata": {},
   "source": [
    "#### Gradient Boosting"
   ]
  },
  {
   "cell_type": "code",
   "execution_count": 40,
   "id": "947728dc",
   "metadata": {},
   "outputs": [
    {
     "data": {
      "text/plain": [
       "GradientBoostingClassifier(random_state=0)"
      ]
     },
     "execution_count": 40,
     "metadata": {},
     "output_type": "execute_result"
    }
   ],
   "source": [
    "grbt = GradientBoostingClassifier(\n",
    "    n_estimators = 100,\n",
    "    learning_rate = 0.1,\n",
    "    random_state = 0,\n",
    "    verbose = 0\n",
    "    ) \n",
    "grbt.fit(tfidfv, y_train)"
   ]
  },
  {
   "cell_type": "code",
   "execution_count": 41,
   "id": "3eee1fae",
   "metadata": {},
   "outputs": [
    {
     "name": "stdout",
     "output_type": "stream",
     "text": [
      "정확도: 0.7658058771148709\n"
     ]
    }
   ],
   "source": [
    "predicted = grbt.predict(tfidfv_test) \n",
    "print(\"정확도:\", accuracy_score(y_test, predicted)) "
   ]
  },
  {
   "cell_type": "code",
   "execution_count": 42,
   "id": "7d75b2dc",
   "metadata": {},
   "outputs": [
    {
     "data": {
      "text/plain": [
       "GradientBoostingClassifier(learning_rate=0.05, n_estimators=300, random_state=0)"
      ]
     },
     "execution_count": 42,
     "metadata": {},
     "output_type": "execute_result"
    }
   ],
   "source": [
    "grbt = GradientBoostingClassifier(\n",
    "    n_estimators = 300,\n",
    "    learning_rate = 0.05,\n",
    "    random_state = 0,\n",
    "    verbose = 0\n",
    "    ) \n",
    "grbt.fit(tfidfv, y_train)"
   ]
  },
  {
   "cell_type": "code",
   "execution_count": 43,
   "id": "05da7cab",
   "metadata": {},
   "outputs": [
    {
     "name": "stdout",
     "output_type": "stream",
     "text": [
      "정확도: 0.7782724844167409\n"
     ]
    }
   ],
   "source": [
    "predicted = grbt.predict(tfidfv_test) \n",
    "print(\"정확도:\", accuracy_score(y_test, predicted)) "
   ]
  },
  {
   "cell_type": "markdown",
   "id": "a4461f22",
   "metadata": {},
   "source": [
    "#### Voting"
   ]
  },
  {
   "cell_type": "code",
   "execution_count": 45,
   "id": "1d5f64db",
   "metadata": {},
   "outputs": [
    {
     "data": {
      "text/plain": [
       "VotingClassifier(estimators=[('lr', LogisticRegression(C=3, max_iter=3000)),\n",
       "                             ('cnb', ComplementNB()),\n",
       "                             ('lsvc',\n",
       "                              CalibratedClassifierCV(base_estimator=LinearSVC(C=1,\n",
       "                                                                              max_iter=3000),\n",
       "                                                     cv=5))],\n",
       "                 voting='soft')"
      ]
     },
     "execution_count": 45,
     "metadata": {},
     "output_type": "execute_result"
    }
   ],
   "source": [
    "from sklearn.calibration import CalibratedClassifierCV \n",
    "\n",
    "clf1 = LogisticRegression(C=3, penalty='l2', max_iter=3000)\n",
    "clf2 = ComplementNB()\n",
    "lsvc = LinearSVC(C=1, penalty='l2', max_iter=3000)\n",
    "clf3 = CalibratedClassifierCV(lsvc, cv=5, method='sigmoid')      # LinearSVC는 확률 출력이 되지 않아, 우회하여 계산\n",
    "\n",
    "voting_classifier =  VotingClassifier(\n",
    "    estimators=[\n",
    "    ('lr', clf1), \n",
    "    ('cnb', clf2), \n",
    "    ('lsvc', clf3)\n",
    "    ],\n",
    "    voting = 'soft'\n",
    "    )\n",
    "\n",
    "voting_classifier.fit(tfidfv, y_train)"
   ]
  },
  {
   "cell_type": "code",
   "execution_count": 46,
   "id": "4bfca634",
   "metadata": {},
   "outputs": [
    {
     "name": "stdout",
     "output_type": "stream",
     "text": [
      "정확도: 0.8325912733748887\n"
     ]
    }
   ],
   "source": [
    "predicted = voting_classifier.predict(tfidfv_test) \n",
    "print(\"정확도:\", accuracy_score(y_test, predicted)) "
   ]
  },
  {
   "cell_type": "markdown",
   "id": "65124aa5",
   "metadata": {},
   "source": [
    "#### 결과 정리\n",
    "\n",
    "LIST = {\n",
    "    Naive Bayes Classifier         >   0.6513802315227071 (acc)\n",
    "    CNB                            >   0.7720391807658059\n",
    "    Logistic Regression            >   0.8250222617987534 (C=5, penalty='l2')\n",
    "    Linear Support vector Machine  >   0.8379341050756901 (C=1, penalty='l1')\n",
    "    Decision Tree                  >   0.6095280498664292\n",
    "    Random Forest                  >   0.7604630454140695 (n_estimators = 300, max_depth = 50)\n",
    "    Gradient Boosting              >   0.7782724844167409 (n_estimators = 300, learning_rate = 0.05)\n",
    "    Voting                         >   0.8325912733748887 (Logistic, LSVM, CNB)\n",
    "}\n",
    "\n",
    "위 중 상위 세 가지 분류기만 사용하여, num_words 5000, 20000 과 비교.\n",
    "\n",
    "이후 Word2Vec 통해 embedding 후 딥러닝 모델 적용(Dense NN, RNN)"
   ]
  },
  {
   "cell_type": "markdown",
   "id": "a10a4f3d",
   "metadata": {},
   "source": [
    "## 빈도수 상위 5,000개 사용 (num_words = 5000)"
   ]
  },
  {
   "cell_type": "markdown",
   "id": "8cadcf5c",
   "metadata": {},
   "source": [
    "### 벡터화(TF-IDF)"
   ]
  },
  {
   "cell_type": "code",
   "execution_count": 47,
   "id": "20a562a8",
   "metadata": {},
   "outputs": [],
   "source": [
    "(x_train, y_train), (x_test, y_test) = reuters.load_data(num_words=5000, test_split=0.2)\n",
    "\n",
    "# DTM 생성\n",
    "tokenizer = Tokenizer(num_words=10000)\n",
    "\n",
    "x_train_dtm = tokenizer.sequences_to_matrix(x_train, mode='count')\n",
    "x_test_dtm  = tokenizer.sequences_to_matrix(x_test, mode='count')\n",
    "\n",
    "# TF-IDF 생성\n",
    "tfidfv = tfidf_transformer.fit_transform(x_train_dtm)\n",
    "tfidfv_test = tfidf_transformer.fit_transform(x_test_dtm)"
   ]
  },
  {
   "cell_type": "markdown",
   "id": "b13a611c",
   "metadata": {},
   "source": [
    "### 모델 적용\n",
    "\n",
    "LIST = {\n",
    "    Logistic Regression, \n",
    "    Linear Support vector Machine, \n",
    "    Voting\n",
    "}"
   ]
  },
  {
   "cell_type": "markdown",
   "id": "c377d52b",
   "metadata": {},
   "source": [
    "#### Logistic Regression"
   ]
  },
  {
   "cell_type": "code",
   "execution_count": 48,
   "id": "709b991d",
   "metadata": {},
   "outputs": [
    {
     "data": {
      "text/plain": [
       "LogisticRegression(C=5, max_iter=3000)"
      ]
     },
     "execution_count": 48,
     "metadata": {},
     "output_type": "execute_result"
    }
   ],
   "source": [
    "lr = LogisticRegression(C=5, penalty='l2', max_iter=3000)      \n",
    "lr.fit(tfidfv, y_train)"
   ]
  },
  {
   "cell_type": "code",
   "execution_count": 49,
   "id": "ce671219",
   "metadata": {},
   "outputs": [
    {
     "name": "stdout",
     "output_type": "stream",
     "text": [
      "정확도: 0.821460373998219\n"
     ]
    }
   ],
   "source": [
    "predicted = lr.predict(tfidfv_test) \n",
    "print(\"정확도:\", accuracy_score(y_test, predicted)) "
   ]
  },
  {
   "cell_type": "markdown",
   "id": "398fac7c",
   "metadata": {},
   "source": [
    "#### Linear Support vector Machine"
   ]
  },
  {
   "cell_type": "code",
   "execution_count": 50,
   "id": "1287d738",
   "metadata": {},
   "outputs": [
    {
     "data": {
      "text/plain": [
       "LinearSVC(C=1, dual=False, max_iter=3000, penalty='l1')"
      ]
     },
     "execution_count": 50,
     "metadata": {},
     "output_type": "execute_result"
    }
   ],
   "source": [
    "lsvc = LinearSVC(C=1, penalty='l1', max_iter=3000, dual=False)  \n",
    "lsvc.fit(tfidfv, y_train)"
   ]
  },
  {
   "cell_type": "code",
   "execution_count": 51,
   "id": "6d10751f",
   "metadata": {},
   "outputs": [
    {
     "name": "stdout",
     "output_type": "stream",
     "text": [
      "정확도: 0.8352626892252895\n"
     ]
    }
   ],
   "source": [
    "predicted = lsvc.predict(tfidfv_test) \n",
    "print(\"정확도:\", accuracy_score(y_test, predicted)) "
   ]
  },
  {
   "cell_type": "markdown",
   "id": "5edc0afe",
   "metadata": {},
   "source": [
    "#### Voting"
   ]
  },
  {
   "cell_type": "code",
   "execution_count": 52,
   "id": "10377565",
   "metadata": {},
   "outputs": [
    {
     "data": {
      "text/plain": [
       "VotingClassifier(estimators=[('lr', LogisticRegression(C=3, max_iter=3000)),\n",
       "                             ('cnb', ComplementNB()),\n",
       "                             ('lsvc',\n",
       "                              CalibratedClassifierCV(base_estimator=LinearSVC(C=1,\n",
       "                                                                              max_iter=3000),\n",
       "                                                     cv=5))],\n",
       "                 voting='soft')"
      ]
     },
     "execution_count": 52,
     "metadata": {},
     "output_type": "execute_result"
    }
   ],
   "source": [
    "clf1 = LogisticRegression(C=3, penalty='l2', max_iter=3000)\n",
    "clf2 = ComplementNB()\n",
    "lsvc = LinearSVC(C=1, penalty='l2', max_iter=3000)\n",
    "clf3 = CalibratedClassifierCV(lsvc, cv=5, method='sigmoid')     \n",
    "\n",
    "voting_classifier =  VotingClassifier(\n",
    "    estimators=[\n",
    "    ('lr', clf1), \n",
    "    ('cnb', clf2), \n",
    "    ('lsvc', clf3)\n",
    "    ],\n",
    "    voting = 'soft'\n",
    "    )\n",
    "\n",
    "voting_classifier.fit(tfidfv, y_train)"
   ]
  },
  {
   "cell_type": "code",
   "execution_count": 53,
   "id": "20793fed",
   "metadata": {},
   "outputs": [
    {
     "name": "stdout",
     "output_type": "stream",
     "text": [
      "정확도: 0.8281389136242209\n"
     ]
    }
   ],
   "source": [
    "predicted = voting_classifier.predict(tfidfv_test) \n",
    "print(\"정확도:\", accuracy_score(y_test, predicted)) "
   ]
  },
  {
   "cell_type": "markdown",
   "id": "feeda667",
   "metadata": {},
   "source": [
    "#### 결과 정리\n",
    "\n",
    "LIST = {\n",
    "    Logistic Regression            >   0.821460373998219\n",
    "    Linear Support vector Machine  >   0.8352626892252895 \n",
    "    Voting                         >   0.8281389136242209 \n",
    "}"
   ]
  },
  {
   "cell_type": "markdown",
   "id": "37afcf53",
   "metadata": {},
   "source": [
    "## 빈도수 상위 20,000개 사용 (num_words = 20000)"
   ]
  },
  {
   "cell_type": "markdown",
   "id": "b56f3a79",
   "metadata": {},
   "source": [
    "### 벡터화(TF-IDF)"
   ]
  },
  {
   "cell_type": "code",
   "execution_count": 54,
   "id": "2058b4c9",
   "metadata": {},
   "outputs": [],
   "source": [
    "(x_train, y_train), (x_test, y_test) = reuters.load_data(num_words=20000, test_split=0.2)\n",
    "\n",
    "# DTM 생성\n",
    "tokenizer = Tokenizer(num_words=10000)\n",
    "\n",
    "x_train_dtm = tokenizer.sequences_to_matrix(x_train, mode='count')\n",
    "x_test_dtm  = tokenizer.sequences_to_matrix(x_test, mode='count')\n",
    "\n",
    "# TF-IDF 생성\n",
    "tfidfv = tfidf_transformer.fit_transform(x_train_dtm)\n",
    "tfidfv_test = tfidf_transformer.fit_transform(x_test_dtm)"
   ]
  },
  {
   "cell_type": "markdown",
   "id": "f6031c02",
   "metadata": {},
   "source": [
    "### 모델 적용\n",
    "\n",
    "LIST = {\n",
    "    Logistic Regression, \n",
    "    Linear Support vector Machine, \n",
    "    Voting\n",
    "}"
   ]
  },
  {
   "cell_type": "markdown",
   "id": "3e2189f4",
   "metadata": {},
   "source": [
    "#### Logistic Regression"
   ]
  },
  {
   "cell_type": "code",
   "execution_count": 55,
   "id": "ab26f92a",
   "metadata": {},
   "outputs": [
    {
     "data": {
      "text/plain": [
       "LogisticRegression(C=5, max_iter=3000)"
      ]
     },
     "execution_count": 55,
     "metadata": {},
     "output_type": "execute_result"
    }
   ],
   "source": [
    "lr = LogisticRegression(C=5, penalty='l2', max_iter=3000)      \n",
    "lr.fit(tfidfv, y_train)"
   ]
  },
  {
   "cell_type": "code",
   "execution_count": 56,
   "id": "784cf8bf",
   "metadata": {},
   "outputs": [
    {
     "name": "stdout",
     "output_type": "stream",
     "text": [
      "정확도: 0.8232413178984862\n"
     ]
    }
   ],
   "source": [
    "predicted = lr.predict(tfidfv_test) \n",
    "print(\"정확도:\", accuracy_score(y_test, predicted)) "
   ]
  },
  {
   "cell_type": "markdown",
   "id": "0ee78872",
   "metadata": {},
   "source": [
    "#### Linear Support vector Machine"
   ]
  },
  {
   "cell_type": "code",
   "execution_count": 57,
   "id": "8d067bcb",
   "metadata": {},
   "outputs": [
    {
     "data": {
      "text/plain": [
       "LinearSVC(C=1, dual=False, max_iter=3000, penalty='l1')"
      ]
     },
     "execution_count": 57,
     "metadata": {},
     "output_type": "execute_result"
    }
   ],
   "source": [
    "lsvc = LinearSVC(C=1, penalty='l1', max_iter=3000, dual=False)  \n",
    "lsvc.fit(tfidfv, y_train)"
   ]
  },
  {
   "cell_type": "code",
   "execution_count": 58,
   "id": "3f8e15e5",
   "metadata": {},
   "outputs": [
    {
     "name": "stdout",
     "output_type": "stream",
     "text": [
      "정확도: 0.8379341050756901\n"
     ]
    }
   ],
   "source": [
    "predicted = lsvc.predict(tfidfv_test) \n",
    "print(\"정확도:\", accuracy_score(y_test, predicted)) "
   ]
  },
  {
   "cell_type": "markdown",
   "id": "da41f1f9",
   "metadata": {},
   "source": [
    "#### Voting"
   ]
  },
  {
   "cell_type": "code",
   "execution_count": 59,
   "id": "8a9f3022",
   "metadata": {},
   "outputs": [
    {
     "data": {
      "text/plain": [
       "VotingClassifier(estimators=[('lr', LogisticRegression(C=3, max_iter=3000)),\n",
       "                             ('cnb', ComplementNB()),\n",
       "                             ('lsvc',\n",
       "                              CalibratedClassifierCV(base_estimator=LinearSVC(C=1,\n",
       "                                                                              max_iter=3000),\n",
       "                                                     cv=5))],\n",
       "                 voting='soft')"
      ]
     },
     "execution_count": 59,
     "metadata": {},
     "output_type": "execute_result"
    }
   ],
   "source": [
    "clf1 = LogisticRegression(C=3, penalty='l2', max_iter=3000)\n",
    "clf2 = ComplementNB()\n",
    "lsvc = LinearSVC(C=1, penalty='l2', max_iter=3000)\n",
    "clf3 = CalibratedClassifierCV(lsvc, cv=5, method='sigmoid')     \n",
    "\n",
    "voting_classifier =  VotingClassifier(\n",
    "    estimators=[\n",
    "    ('lr', clf1), \n",
    "    ('cnb', clf2), \n",
    "    ('lsvc', clf3)\n",
    "    ],\n",
    "    voting = 'soft'\n",
    "    )\n",
    "\n",
    "voting_classifier.fit(tfidfv, y_train)"
   ]
  },
  {
   "cell_type": "code",
   "execution_count": 60,
   "id": "871f0f56",
   "metadata": {},
   "outputs": [
    {
     "name": "stdout",
     "output_type": "stream",
     "text": [
      "정확도: 0.8312555654496884\n"
     ]
    }
   ],
   "source": [
    "predicted = voting_classifier.predict(tfidfv_test) \n",
    "print(\"정확도:\", accuracy_score(y_test, predicted)) "
   ]
  },
  {
   "cell_type": "markdown",
   "id": "261849c1",
   "metadata": {},
   "source": [
    "#### 결과 정리\n",
    "\n",
    "LIST = {\n",
    "    Logistic Regression            >   0.8232413178984862\n",
    "    Linear Support vector Machine  >   0.8379341050756901 \n",
    "    Voting                         >   0.8312555654496884 \n",
    "}"
   ]
  },
  {
   "cell_type": "markdown",
   "id": "0cf355cd",
   "metadata": {},
   "source": [
    "## TF-IDF 머신러닝 결과 비교 (ACC)\n",
    "- num_words = None\n",
    "    Linear Support vector Machine  >   0.8379341050756901\n",
    "- num_words = 5000\n",
    "    Linear Support vector Machine  >   0.8352626892252895\n",
    "- num_words = 20000\n",
    "    Linear Support vector Machine  >   0.8379341050756901\n",
    "\n",
    "LSVM이 가장 좋은 성능을 보여줬으며, Num_words가 어느 이상부터는 none과 성능 차이가 없어 보임."
   ]
  },
  {
   "cell_type": "markdown",
   "id": "60ed9cc2",
   "metadata": {},
   "source": [
    "## W2V 딥러닝(num_words = None 으로 진행)"
   ]
  },
  {
   "cell_type": "markdown",
   "id": "17947769",
   "metadata": {},
   "source": [
    "### W2V 진행"
   ]
  },
  {
   "cell_type": "code",
   "execution_count": 61,
   "id": "f6f2e48b",
   "metadata": {},
   "outputs": [
    {
     "name": "stdout",
     "output_type": "stream",
     "text": [
      "훈련 데이터 len:  8982\n",
      "테스트 데이터 len:  2246\n"
     ]
    }
   ],
   "source": [
    "# W2V는 문자열을 입력값으로 받으므로 decode 진행 필요\n",
    "\n",
    "(x_train, y_train), (x_test, y_test) = reuters.load_data(num_words=None, test_split=0.2)\n",
    "\n",
    "word_index = reuters.get_word_index(path=\"reuters_word_index.json\")\n",
    "\n",
    "index_to_word = { index+3 : word for word, index in word_index.items() }\n",
    "for index, token in enumerate((\"<pad>\", \"<sos>\", \"<unk>\")):\n",
    "  index_to_word[index]=token\n",
    "\n",
    "# train 데이터 decode\n",
    "decoded = []\n",
    "for i in range(len(x_train)):\n",
    "    t = ' '.join([index_to_word[index] for index in x_train[i]])\n",
    "    decoded.append(t)\n",
    "\n",
    "x_train = decoded\n",
    "\n",
    "# test 데이터 decode\n",
    "decoded_test = []\n",
    "for i in range(len(x_test)):\n",
    "    t = ' '.join([index_to_word[index] for index in x_test[i]])\n",
    "    decoded_test.append(t)\n",
    "\n",
    "x_test = decoded_test\n",
    "\n",
    "print('훈련 데이터 len: ', len(x_train))\n",
    "print('테스트 데이터 len: ', len(x_test))"
   ]
  },
  {
   "cell_type": "code",
   "execution_count": null,
   "id": "8e967027",
   "metadata": {},
   "outputs": [],
   "source": [
    "from gensim.models import Word2Vec\n",
    "\n",
    "x_train_tokenized = [sentence.split() for sentence in x_train]\n",
    "x_test_tokenized = [sentence.split() for sentence in x_test]\n",
    "\n",
    "w2v = Word2Vec(\n",
    "    sentences = x_train_tokenized, \n",
    "    vector_size = 256, \n",
    "    window = 5, \n",
    "    min_count = 5, \n",
    "    workers = 4, \n",
    "    sg = 0\n",
    "    )"
   ]
  },
  {
   "cell_type": "code",
   "execution_count": null,
   "id": "a87d76a1",
   "metadata": {},
   "outputs": [],
   "source": [
    "# 각 문장을 벡터화 \\\n",
    "# max_len = 100\n",
    "\n",
    "import numpy as np\n",
    "\n",
    "def vectorize_sentence(sentence, model, max_len):\n",
    "    vecs = []\n",
    "    for word in sentence:\n",
    "        if word in model.wv:\n",
    "            vecs.append(model.wv[word])\n",
    "        else:\n",
    "            vecs.append(np.zeros(model.vector_size))\n",
    "    # Padding\n",
    "    if len(vecs) < max_len:\n",
    "        vecs += [np.zeros(model.vector_size)] * (max_len - len(vecs))\n",
    "    else:\n",
    "        vecs = vecs[:max_len]\n",
    "    return np.array(vecs)\n",
    "\n",
    "x_train_w2v = np.array([vectorize_sentence(s, w2v, max_len = 100) for s in x_train_tokenized])\n",
    "x_test_w2v = np.array([vectorize_sentence(s, w2v, max_len = 100) for s in x_test_tokenized])\n",
    "\n",
    "# W2V embedding의 경우 문장 단위 고정 길이 벡터화이므로 max_len 의 값이 모델 성능에 큰 영향\n",
    "# max_len 이 길면 연산이 많아지며, 짧으면 정보가 손실됨\n",
    "# max_len: 100 인 경우, 200단어 기사라면 내용 절반은 손실"
   ]
  },
  {
   "cell_type": "code",
   "execution_count": 75,
   "id": "cacb824c",
   "metadata": {},
   "outputs": [],
   "source": [
    "x_train_w2v_2 = np.array([vectorize_sentence(s, w2v, max_len = 200) for s in x_train_tokenized])\n",
    "x_test_w2v_2 = np.array([vectorize_sentence(s, w2v, max_len = 200) for s in x_test_tokenized])"
   ]
  },
  {
   "cell_type": "markdown",
   "id": "40ef56aa",
   "metadata": {},
   "source": [
    "### Dense NN 딥러닝 모델"
   ]
  },
  {
   "cell_type": "code",
   "execution_count": null,
   "id": "d1774ff1",
   "metadata": {},
   "outputs": [
    {
     "name": "stdout",
     "output_type": "stream",
     "text": [
      "Model: \"sequential\"\n",
      "_________________________________________________________________\n",
      " Layer (type)                Output Shape              Param #   \n",
      "=================================================================\n",
      " flatten (Flatten)           (None, 25600)             0         \n",
      "                                                                 \n",
      " dense (Dense)               (None, 512)               13107712  \n",
      "                                                                 \n",
      " dropout (Dropout)           (None, 512)               0         \n",
      "                                                                 \n",
      " dense_1 (Dense)             (None, 128)               65664     \n",
      "                                                                 \n",
      " dropout_1 (Dropout)         (None, 128)               0         \n",
      "                                                                 \n",
      " dense_2 (Dense)             (None, 46)                5934      \n",
      "                                                                 \n",
      "=================================================================\n",
      "Total params: 13,179,310\n",
      "Trainable params: 13,179,310\n",
      "Non-trainable params: 0\n",
      "_________________________________________________________________\n"
     ]
    }
   ],
   "source": [
    "from tensorflow.keras.models import Sequential\n",
    "from tensorflow.keras.layers import Flatten, Dense, Dropout, LSTM, Dense, Dropout\n",
    "\n",
    "\n",
    "dense_model = Sequential([\n",
    "    Flatten(input_shape=(100, 256)),  \n",
    "    Dense(512, activation='relu'),\n",
    "    Dropout(0.3),\n",
    "    Dense(128, activation='relu'),\n",
    "    Dropout(0.3),\n",
    "    Dense(46, activation='softmax')  \n",
    "])\n",
    "\n",
    "dense_model.compile(\n",
    "    optimizer='adam', \n",
    "    loss='sparse_categorical_crossentropy', \n",
    "    metrics=['accuracy']\n",
    "    )\n",
    "\n",
    "dense_model.summary()"
   ]
  },
  {
   "cell_type": "code",
   "execution_count": 69,
   "id": "afba9103",
   "metadata": {},
   "outputs": [
    {
     "name": "stdout",
     "output_type": "stream",
     "text": [
      "Epoch 1/10\n",
      "225/225 [==============================] - 8s 33ms/step - loss: 1.9257 - accuracy: 0.5684 - val_loss: 1.4762 - val_accuracy: 0.6572\n",
      "Epoch 2/10\n",
      "225/225 [==============================] - 7s 31ms/step - loss: 1.3588 - accuracy: 0.6803 - val_loss: 1.4036 - val_accuracy: 0.6895\n",
      "Epoch 3/10\n",
      "225/225 [==============================] - 7s 30ms/step - loss: 1.0678 - accuracy: 0.7406 - val_loss: 1.4007 - val_accuracy: 0.6884\n",
      "Epoch 4/10\n",
      "225/225 [==============================] - 7s 31ms/step - loss: 0.8997 - accuracy: 0.7770 - val_loss: 1.4275 - val_accuracy: 0.6923\n",
      "Epoch 5/10\n",
      "225/225 [==============================] - 7s 31ms/step - loss: 0.7627 - accuracy: 0.8103 - val_loss: 1.4712 - val_accuracy: 0.6867\n",
      "Epoch 6/10\n",
      "225/225 [==============================] - 7s 30ms/step - loss: 0.6481 - accuracy: 0.8380 - val_loss: 1.5509 - val_accuracy: 0.6945\n",
      "Epoch 7/10\n",
      "225/225 [==============================] - 7s 31ms/step - loss: 0.5617 - accuracy: 0.8568 - val_loss: 1.5859 - val_accuracy: 0.6917\n",
      "Epoch 8/10\n",
      "225/225 [==============================] - 7s 32ms/step - loss: 0.5584 - accuracy: 0.8710 - val_loss: 1.5914 - val_accuracy: 0.6839\n",
      "Epoch 9/10\n",
      "225/225 [==============================] - 7s 32ms/step - loss: 0.4909 - accuracy: 0.8825 - val_loss: 1.6798 - val_accuracy: 0.6839\n",
      "Epoch 10/10\n",
      "225/225 [==============================] - 7s 31ms/step - loss: 0.4631 - accuracy: 0.8856 - val_loss: 1.7355 - val_accuracy: 0.6912\n"
     ]
    },
    {
     "data": {
      "text/plain": [
       "<keras.callbacks.History at 0x1ecbdab6c20>"
      ]
     },
     "execution_count": 69,
     "metadata": {},
     "output_type": "execute_result"
    }
   ],
   "source": [
    "dense_model.fit(x_train_w2v, y_train, epochs=10, batch_size=32, validation_split=0.2)"
   ]
  },
  {
   "cell_type": "code",
   "execution_count": 71,
   "id": "0d14ce3b",
   "metadata": {},
   "outputs": [
    {
     "name": "stdout",
     "output_type": "stream",
     "text": [
      "71/71 [==============================] - 0s 6ms/step\n",
      "✅ Accuracy: 0.6968\n",
      "✅ F1-score: 0.6694\n"
     ]
    }
   ],
   "source": [
    "from sklearn.metrics import f1_score\n",
    "\n",
    "y_pred_proba = dense_model.predict(x_test_w2v)\n",
    "y_pred = np.argmax(y_pred_proba, axis=1)\n",
    "\n",
    "acc = accuracy_score(y_test, y_pred)\n",
    "f1 = f1_score(y_test, y_pred, average='weighted')\n",
    "\n",
    "print(f\"✅ Accuracy: {acc:.4f}\")\n",
    "print(f\"✅ F1-score: {f1:.4f}\")"
   ]
  },
  {
   "cell_type": "code",
   "execution_count": null,
   "id": "01cfc4c9",
   "metadata": {},
   "outputs": [
    {
     "name": "stdout",
     "output_type": "stream",
     "text": [
      "Model: \"sequential_1\"\n",
      "_________________________________________________________________\n",
      " Layer (type)                Output Shape              Param #   \n",
      "=================================================================\n",
      " flatten_1 (Flatten)         (None, 51200)             0         \n",
      "                                                                 \n",
      " dense_3 (Dense)             (None, 512)               26214912  \n",
      "                                                                 \n",
      " dropout_2 (Dropout)         (None, 512)               0         \n",
      "                                                                 \n",
      " dense_4 (Dense)             (None, 128)               65664     \n",
      "                                                                 \n",
      " dropout_3 (Dropout)         (None, 128)               0         \n",
      "                                                                 \n",
      " dense_5 (Dense)             (None, 46)                5934      \n",
      "                                                                 \n",
      "=================================================================\n",
      "Total params: 26,286,510\n",
      "Trainable params: 26,286,510\n",
      "Non-trainable params: 0\n",
      "_________________________________________________________________\n"
     ]
    }
   ],
   "source": [
    "# # max_len : 200\n",
    "\n",
    "# dense_model = Sequential([\n",
    "#     Flatten(input_shape=(200, 256)),  \n",
    "#     Dense(512, activation='relu'),\n",
    "#     Dropout(0.3),\n",
    "#     Dense(128, activation='relu'),\n",
    "#     Dropout(0.3),\n",
    "#     Dense(46, activation='softmax')  \n",
    "# ])\n",
    "\n",
    "# dense_model.compile(\n",
    "#     optimizer='adam', \n",
    "#     loss='sparse_categorical_crossentropy', \n",
    "#     metrics=['accuracy']\n",
    "#     )\n",
    "\n",
    "# dense_model.summary()"
   ]
  },
  {
   "cell_type": "code",
   "execution_count": null,
   "id": "c5dfd258",
   "metadata": {},
   "outputs": [
    {
     "name": "stdout",
     "output_type": "stream",
     "text": [
      "Epoch 1/10\n",
      "225/225 [==============================] - 15s 63ms/step - loss: 2.0663 - accuracy: 0.5571 - val_loss: 1.5495 - val_accuracy: 0.6277\n",
      "Epoch 2/10\n",
      "225/225 [==============================] - 14s 62ms/step - loss: 1.4762 - accuracy: 0.6642 - val_loss: 1.4531 - val_accuracy: 0.6750\n",
      "Epoch 3/10\n",
      "225/225 [==============================] - 13s 59ms/step - loss: 1.2066 - accuracy: 0.7187 - val_loss: 1.4478 - val_accuracy: 0.6756\n",
      "Epoch 4/10\n",
      "225/225 [==============================] - 13s 59ms/step - loss: 0.9916 - accuracy: 0.7594 - val_loss: 1.4596 - val_accuracy: 0.6834\n",
      "Epoch 5/10\n",
      "225/225 [==============================] - 13s 59ms/step - loss: 0.8549 - accuracy: 0.7907 - val_loss: 1.5200 - val_accuracy: 0.6811\n",
      "Epoch 6/10\n",
      "225/225 [==============================] - 13s 59ms/step - loss: 0.7814 - accuracy: 0.8068 - val_loss: 1.4931 - val_accuracy: 0.6811\n",
      "Epoch 7/10\n",
      "225/225 [==============================] - 13s 60ms/step - loss: 0.6888 - accuracy: 0.8312 - val_loss: 1.5606 - val_accuracy: 0.6889\n",
      "Epoch 8/10\n",
      "225/225 [==============================] - 13s 60ms/step - loss: 0.6325 - accuracy: 0.8475 - val_loss: 1.6948 - val_accuracy: 0.6956\n",
      "Epoch 9/10\n",
      "225/225 [==============================] - 13s 60ms/step - loss: 0.6229 - accuracy: 0.8505 - val_loss: 1.6773 - val_accuracy: 0.6945\n",
      "Epoch 10/10\n",
      "225/225 [==============================] - 14s 61ms/step - loss: 0.5640 - accuracy: 0.8580 - val_loss: 1.6731 - val_accuracy: 0.6839\n"
     ]
    },
    {
     "data": {
      "text/plain": [
       "<keras.callbacks.History at 0x1ed2e099690>"
      ]
     },
     "execution_count": 76,
     "metadata": {},
     "output_type": "execute_result"
    }
   ],
   "source": [
    "# dense_model.fit(x_train_w2v_2, y_train, epochs=10, batch_size=32, validation_split=0.2)"
   ]
  },
  {
   "cell_type": "code",
   "execution_count": null,
   "id": "e9cff54d",
   "metadata": {},
   "outputs": [
    {
     "name": "stdout",
     "output_type": "stream",
     "text": [
      "71/71 [==============================] - 1s 9ms/step\n",
      "✅ Accuracy: 0.6785\n",
      "✅ F1-score: 0.6512\n"
     ]
    }
   ],
   "source": [
    "# y_pred_proba = dense_model.predict(x_test_w2v_2)\n",
    "# y_pred = np.argmax(y_pred_proba, axis=1)\n",
    "\n",
    "# acc = accuracy_score(y_test, y_pred)\n",
    "# f1 = f1_score(y_test, y_pred, average='weighted')\n",
    "\n",
    "# print(f\"✅ Accuracy: {acc:.4f}\")\n",
    "# print(f\"✅ F1-score: {f1:.4f}\")\n",
    "\n",
    "# ✅ Accuracy: 0.6785\n",
    "# ✅ F1-score: 0.6512"
   ]
  },
  {
   "cell_type": "markdown",
   "id": "e2c8272c",
   "metadata": {},
   "source": [
    "### RNN 딥러닝 모델"
   ]
  },
  {
   "cell_type": "code",
   "execution_count": 79,
   "id": "33f119ed",
   "metadata": {},
   "outputs": [
    {
     "name": "stdout",
     "output_type": "stream",
     "text": [
      "Model: \"sequential_3\"\n",
      "_________________________________________________________________\n",
      " Layer (type)                Output Shape              Param #   \n",
      "=================================================================\n",
      " lstm_1 (LSTM)               (None, 128)               197120    \n",
      "                                                                 \n",
      " dropout_6 (Dropout)         (None, 128)               0         \n",
      "                                                                 \n",
      " dense_8 (Dense)             (None, 64)                8256      \n",
      "                                                                 \n",
      " dropout_7 (Dropout)         (None, 64)                0         \n",
      "                                                                 \n",
      " dense_9 (Dense)             (None, 46)                2990      \n",
      "                                                                 \n",
      "=================================================================\n",
      "Total params: 208,366\n",
      "Trainable params: 208,366\n",
      "Non-trainable params: 0\n",
      "_________________________________________________________________\n"
     ]
    }
   ],
   "source": [
    "rnn_model = Sequential([\n",
    "    LSTM(128, input_shape=(100, 256)),  # (seq_len, embedding_dim)\n",
    "    Dropout(0.3),\n",
    "    Dense(64, activation='relu'),\n",
    "    Dropout(0.3),\n",
    "    Dense(46, activation='softmax')   \n",
    "])\n",
    "\n",
    "rnn_model.compile(\n",
    "    optimizer='adam', \n",
    "    loss='sparse_categorical_crossentropy', \n",
    "    metrics=['accuracy']\n",
    "    )\n",
    "\n",
    "rnn_model.summary()"
   ]
  },
  {
   "cell_type": "code",
   "execution_count": 80,
   "id": "b6f05de6",
   "metadata": {},
   "outputs": [
    {
     "name": "stdout",
     "output_type": "stream",
     "text": [
      "Epoch 1/10\n",
      "225/225 [==============================] - 16s 66ms/step - loss: 2.1319 - accuracy: 0.4774 - val_loss: 1.6565 - val_accuracy: 0.5865\n",
      "Epoch 2/10\n",
      "225/225 [==============================] - 15s 68ms/step - loss: 1.7026 - accuracy: 0.5923 - val_loss: 1.7302 - val_accuracy: 0.5760\n",
      "Epoch 3/10\n",
      "225/225 [==============================] - 16s 69ms/step - loss: 1.6077 - accuracy: 0.6225 - val_loss: 1.4125 - val_accuracy: 0.6756\n",
      "Epoch 4/10\n",
      "225/225 [==============================] - 16s 69ms/step - loss: 1.4171 - accuracy: 0.6662 - val_loss: 1.2731 - val_accuracy: 0.7051\n",
      "Epoch 5/10\n",
      "225/225 [==============================] - 16s 69ms/step - loss: 1.2853 - accuracy: 0.6956 - val_loss: 1.2351 - val_accuracy: 0.7112\n",
      "Epoch 6/10\n",
      "225/225 [==============================] - 15s 68ms/step - loss: 1.2052 - accuracy: 0.7095 - val_loss: 1.1661 - val_accuracy: 0.7206\n",
      "Epoch 7/10\n",
      "225/225 [==============================] - 16s 69ms/step - loss: 1.1808 - accuracy: 0.7119 - val_loss: 1.1567 - val_accuracy: 0.7229\n",
      "Epoch 8/10\n",
      "225/225 [==============================] - 16s 69ms/step - loss: 1.1009 - accuracy: 0.7353 - val_loss: 1.0935 - val_accuracy: 0.7457\n",
      "Epoch 9/10\n",
      "225/225 [==============================] - 15s 68ms/step - loss: 1.0598 - accuracy: 0.7417 - val_loss: 1.0849 - val_accuracy: 0.7529\n",
      "Epoch 10/10\n",
      "225/225 [==============================] - 15s 68ms/step - loss: 1.0144 - accuracy: 0.7538 - val_loss: 1.0689 - val_accuracy: 0.7551\n"
     ]
    },
    {
     "data": {
      "text/plain": [
       "<keras.callbacks.History at 0x1ed2a891420>"
      ]
     },
     "execution_count": 80,
     "metadata": {},
     "output_type": "execute_result"
    }
   ],
   "source": [
    "rnn_model.fit(x_train_w2v, y_train, epochs=10, batch_size=32, validation_split=0.2)"
   ]
  },
  {
   "cell_type": "code",
   "execution_count": 81,
   "id": "9522422e",
   "metadata": {},
   "outputs": [
    {
     "name": "stdout",
     "output_type": "stream",
     "text": [
      "71/71 [==============================] - 2s 22ms/step\n",
      "✅ Accuracy: 0.7360\n",
      "✅ F1-score: 0.7052\n"
     ]
    }
   ],
   "source": [
    "y_pred_proba = rnn_model.predict(x_test_w2v)\n",
    "y_pred = np.argmax(y_pred_proba, axis=1)\n",
    "\n",
    "acc = accuracy_score(y_test, y_pred)\n",
    "f1 = f1_score(y_test, y_pred, average='weighted')\n",
    "\n",
    "print(f\"✅ Accuracy: {acc:.4f}\")\n",
    "print(f\"✅ F1-score: {f1:.4f}\")"
   ]
  },
  {
   "cell_type": "markdown",
   "id": "14277c73",
   "metadata": {},
   "source": [
    "## W2V 딥러닝 결과 비교\n",
    "\n",
    "- Dense NN  >   0.6968\n",
    "- RNN       >   0.7360"
   ]
  },
  {
   "cell_type": "markdown",
   "id": "84e9a7e5",
   "metadata": {},
   "source": [
    "## 최종 결과 비교"
   ]
  },
  {
   "cell_type": "code",
   "execution_count": 84,
   "id": "f14f452f",
   "metadata": {},
   "outputs": [
    {
     "data": {
      "image/png": "[encoded data removed]",
      "text/plain": [
       "<Figure size 1200x600 with 1 Axes>"
      ]
     },
     "metadata": {},
     "output_type": "display_data"
    }
   ],
   "source": [
    "import matplotlib.pyplot as plt\n",
    "\n",
    "models = [\n",
    "    'Naive Bayes', \n",
    "    'Complement NB', \n",
    "    'Logistic Regression', \n",
    "    'Linear SVM', \n",
    "    'Decision Tree', \n",
    "    'Random Forest', \n",
    "    'Gradient Boosting', \n",
    "    'Voting',\n",
    "    'Dense NN (W2V)', \n",
    "    'RNN (W2V)'\n",
    "]\n",
    "\n",
    "accuracy = [\n",
    "    0.651, \n",
    "    0.772, \n",
    "    0.825, \n",
    "    0.838,\n",
    "    0.610, \n",
    "    0.760, \n",
    "    0.778, \n",
    "    0.833,\n",
    "    0.697, \n",
    "    0.736\n",
    "]\n",
    "\n",
    "plt.figure(figsize=(12,6))\n",
    "plt.bar(models, accuracy, color = ['blue']*8 + ['red']*2)\n",
    "plt.xticks(rotation=30)\n",
    "plt.ylabel('Accuracy')\n",
    "plt.title('TF-IDF (Machine Learning) vs Word2Vec (Deep Learning) ACC')\n",
    "plt.ylim(0.6, 0.9)\n",
    "plt.show()\n"
   ]
  }
 ],
 "metadata": {
  "kernelspec": {
   "display_name": "Python 3",
   "language": "python",
   "name": "python3"
  },
  "language_info": {
   "codemirror_mode": {
    "name": "ipython",
    "version": 3
   },
   "file_extension": ".py",
   "mimetype": "text/x-python",
   "name": "python",
   "nbconvert_exporter": "python",
   "pygments_lexer": "ipython3",
   "version": "3.10.11"
  }
 },
 "nbformat": 4,
 "nbformat_minor": 5
}
