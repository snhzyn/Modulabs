{
 "cells": [
  {
   "cell_type": "markdown",
   "id": "a939a8ee",
   "metadata": {},
   "source": [
    "# Boston 주택 가격 예측 모델"
   ]
  },
  {
   "cell_type": "markdown",
   "id": "5e18129c",
   "metadata": {},
   "source": [
    "## 데이터 로드 및 전처리"
   ]
  },
  {
   "cell_type": "code",
   "execution_count": 62,
   "id": "08ec11cf",
   "metadata": {},
   "outputs": [],
   "source": [
    "from tensorflow.keras import models, layers\n",
    "import matplotlib.pyplot as plt"
   ]
  },
  {
   "cell_type": "code",
   "execution_count": 63,
   "id": "da6151b1",
   "metadata": {},
   "outputs": [
    {
     "name": "stdout",
     "output_type": "stream",
     "text": [
      "404\n",
      "102\n"
     ]
    }
   ],
   "source": [
    "# keras.datasets boston_housing 데이터셋 로드\n",
    "from keras.datasets import boston_housing\n",
    "from sklearn.model_selection import train_test_split\n",
    "\n",
    "(x_train_full, y_train_full), (x_test, y_test) = boston_housing.load_data()\n",
    "\n",
    "x_train, x_val, y_train, y_val = train_test_split(x_train_full, y_train_full,\n",
    "                                                  test_size = 0.2,\n",
    "                                                  random_state = 42)\n",
    "                                                  \n",
    "\n",
    "# 데이터셋의 크기를 확인\n",
    "print(len(x_train_full))\n",
    "print(len(x_test))"
   ]
  },
  {
   "cell_type": "code",
   "execution_count": 64,
   "id": "1ba8e757",
   "metadata": {},
   "outputs": [],
   "source": [
    "# 데이터의 각 특성의 평균을 빼고\n",
    "mean = x_train_full.mean(axis = 0)\n",
    "x_train_full = x_train_full - mean\n",
    "\n",
    "# 표준편차를 나눔\n",
    "std = x_train_full.std(axis = 0)\n",
    "x_train_full = x_train_full / std\n",
    "\n",
    "# 테스트 데이터셋 동일하게 처리\n",
    "x_test = x_test - mean\n",
    "x_test = x_test / std"
   ]
  },
  {
   "cell_type": "markdown",
   "id": "b0c5299f",
   "metadata": {},
   "source": [
    "## 모델 구성 및 컴파일"
   ]
  },
  {
   "cell_type": "code",
   "execution_count": 65,
   "id": "da9edf78",
   "metadata": {},
   "outputs": [
    {
     "data": {
      "text/plain": [
       "(404, 13)"
      ]
     },
     "execution_count": 65,
     "metadata": {},
     "output_type": "execute_result"
    }
   ],
   "source": [
    "x_train_full.shape"
   ]
  },
  {
   "cell_type": "code",
   "execution_count": 66,
   "id": "f6cf97f3",
   "metadata": {},
   "outputs": [
    {
     "data": {
      "text/plain": [
       "(102, 13)"
      ]
     },
     "execution_count": 66,
     "metadata": {},
     "output_type": "execute_result"
    }
   ],
   "source": [
    "x_test.shape"
   ]
  },
  {
   "cell_type": "code",
   "execution_count": 67,
   "id": "b92abd95",
   "metadata": {},
   "outputs": [
    {
     "name": "stdout",
     "output_type": "stream",
     "text": [
      "Model: \"sequential_3\"\n",
      "_________________________________________________________________\n",
      " Layer (type)                Output Shape              Param #   \n",
      "=================================================================\n",
      " dense_9 (Dense)             (None, 32)                448       \n",
      "                                                                 \n",
      " batch_normalization_2 (Batc  (None, 32)               128       \n",
      " hNormalization)                                                 \n",
      "                                                                 \n",
      " activation_2 (Activation)   (None, 32)                0         \n",
      "                                                                 \n",
      " dropout_2 (Dropout)         (None, 32)                0         \n",
      "                                                                 \n",
      " dense_10 (Dense)            (None, 16)                528       \n",
      "                                                                 \n",
      " batch_normalization_3 (Batc  (None, 16)               64        \n",
      " hNormalization)                                                 \n",
      "                                                                 \n",
      " activation_3 (Activation)   (None, 16)                0         \n",
      "                                                                 \n",
      " dropout_3 (Dropout)         (None, 16)                0         \n",
      "                                                                 \n",
      " dense_11 (Dense)            (None, 1)                 17        \n",
      "                                                                 \n",
      "=================================================================\n",
      "Total params: 1,185\n",
      "Trainable params: 1,089\n",
      "Non-trainable params: 96\n",
      "_________________________________________________________________\n"
     ]
    }
   ],
   "source": [
    "model = models.Sequential()\n",
    "model.add(layers.Dense(32, input_shape=(x_train.shape[1], ), kernel_regularizer='l2'))\n",
    "model.add(layers.BatchNormalization())\n",
    "model.add(layers.Activation('relu'))\n",
    "model.add(layers.Dropout(0.3))\n",
    "model.add(layers.Dense(16, kernel_regularizer='l2'))\n",
    "model.add(layers.BatchNormalization())\n",
    "model.add(layers.Activation('relu'))\n",
    "model.add(layers.Dropout(0.3))\n",
    "model.add(layers.Dense(1, activation = 'linear'))       # 회귀 문제이므로\n",
    "\n",
    "model.compile(loss='mse',\n",
    "              optimizer='rmsprop',\n",
    "              metrics=['mae'])\n",
    "\n",
    "model.summary()"
   ]
  },
  {
   "cell_type": "markdown",
   "id": "eb1827c5",
   "metadata": {},
   "source": [
    "## 모델 학습"
   ]
  },
  {
   "cell_type": "code",
   "execution_count": 68,
   "id": "eb0bb9bc",
   "metadata": {},
   "outputs": [
    {
     "name": "stdout",
     "output_type": "stream",
     "text": [
      "Epoch 1/100\n",
      "21/21 [==============================] - 1s 5ms/step - loss: 623.5552 - mae: 23.0666 - val_loss: 734.2654 - val_mae: 26.2820\n",
      "Epoch 2/100\n",
      "21/21 [==============================] - 0s 2ms/step - loss: 608.5870 - mae: 22.8060 - val_loss: 597.4080 - val_mae: 23.4999\n",
      "Epoch 3/100\n",
      "21/21 [==============================] - 0s 2ms/step - loss: 593.7004 - mae: 22.4510 - val_loss: 549.1255 - val_mae: 22.4416\n",
      "Epoch 4/100\n",
      "21/21 [==============================] - 0s 2ms/step - loss: 583.5104 - mae: 22.2470 - val_loss: 514.2275 - val_mae: 21.6362\n",
      "Epoch 5/100\n",
      "21/21 [==============================] - 0s 2ms/step - loss: 570.7772 - mae: 21.9950 - val_loss: 490.8599 - val_mae: 21.0884\n",
      "Epoch 6/100\n",
      "21/21 [==============================] - 0s 1ms/step - loss: 558.4762 - mae: 21.7472 - val_loss: 473.9302 - val_mae: 20.6714\n",
      "Epoch 7/100\n",
      "21/21 [==============================] - 0s 1ms/step - loss: 551.3481 - mae: 21.6134 - val_loss: 460.4570 - val_mae: 20.3447\n",
      "Epoch 8/100\n",
      "21/21 [==============================] - 0s 1ms/step - loss: 538.0125 - mae: 21.3585 - val_loss: 449.2325 - val_mae: 20.0715\n",
      "Epoch 9/100\n",
      "21/21 [==============================] - 0s 1ms/step - loss: 528.5528 - mae: 21.1195 - val_loss: 436.8349 - val_mae: 19.7606\n",
      "Epoch 10/100\n",
      "21/21 [==============================] - 0s 1ms/step - loss: 514.7512 - mae: 20.8549 - val_loss: 426.5013 - val_mae: 19.5192\n",
      "Epoch 11/100\n",
      "21/21 [==============================] - 0s 1ms/step - loss: 505.5609 - mae: 20.5929 - val_loss: 413.5707 - val_mae: 19.2086\n",
      "Epoch 12/100\n",
      "21/21 [==============================] - 0s 2ms/step - loss: 499.4903 - mae: 20.4572 - val_loss: 403.8034 - val_mae: 18.9750\n",
      "Epoch 13/100\n",
      "21/21 [==============================] - 0s 1ms/step - loss: 488.4064 - mae: 20.2250 - val_loss: 389.8668 - val_mae: 18.6352\n",
      "Epoch 14/100\n",
      "21/21 [==============================] - 0s 1ms/step - loss: 471.8787 - mae: 19.8491 - val_loss: 374.1229 - val_mae: 18.2361\n",
      "Epoch 15/100\n",
      "21/21 [==============================] - 0s 1ms/step - loss: 460.6472 - mae: 19.5867 - val_loss: 361.9524 - val_mae: 17.9150\n",
      "Epoch 16/100\n",
      "21/21 [==============================] - 0s 1ms/step - loss: 456.5441 - mae: 19.4616 - val_loss: 350.5929 - val_mae: 17.6123\n",
      "Epoch 17/100\n",
      "21/21 [==============================] - 0s 1ms/step - loss: 446.8752 - mae: 19.2767 - val_loss: 337.1075 - val_mae: 17.2452\n",
      "Epoch 18/100\n",
      "21/21 [==============================] - 0s 1ms/step - loss: 433.4658 - mae: 18.8848 - val_loss: 324.0324 - val_mae: 16.8851\n",
      "Epoch 19/100\n",
      "21/21 [==============================] - 0s 1ms/step - loss: 419.8305 - mae: 18.6107 - val_loss: 306.6825 - val_mae: 16.3887\n",
      "Epoch 20/100\n",
      "21/21 [==============================] - 0s 1ms/step - loss: 404.6406 - mae: 18.2114 - val_loss: 290.2339 - val_mae: 15.9059\n",
      "Epoch 21/100\n",
      "21/21 [==============================] - 0s 2ms/step - loss: 397.9937 - mae: 18.0139 - val_loss: 278.8172 - val_mae: 15.5539\n",
      "Epoch 22/100\n",
      "21/21 [==============================] - 0s 1ms/step - loss: 381.7102 - mae: 17.6014 - val_loss: 266.0169 - val_mae: 15.1475\n",
      "Epoch 23/100\n",
      "21/21 [==============================] - 0s 1ms/step - loss: 383.0974 - mae: 17.5911 - val_loss: 253.1117 - val_mae: 14.7289\n",
      "Epoch 24/100\n",
      "21/21 [==============================] - 0s 1ms/step - loss: 366.5482 - mae: 17.1516 - val_loss: 236.9307 - val_mae: 14.1781\n",
      "Epoch 25/100\n",
      "21/21 [==============================] - 0s 1ms/step - loss: 353.8729 - mae: 16.7947 - val_loss: 227.9261 - val_mae: 13.8639\n",
      "Epoch 26/100\n",
      "21/21 [==============================] - 0s 1ms/step - loss: 344.2385 - mae: 16.4480 - val_loss: 216.1461 - val_mae: 13.4378\n",
      "Epoch 27/100\n",
      "21/21 [==============================] - 0s 1ms/step - loss: 336.6564 - mae: 16.1930 - val_loss: 199.8828 - val_mae: 12.8252\n",
      "Epoch 28/100\n",
      "21/21 [==============================] - 0s 1ms/step - loss: 317.0291 - mae: 15.7362 - val_loss: 195.8183 - val_mae: 12.6837\n",
      "Epoch 29/100\n",
      "21/21 [==============================] - 0s 1ms/step - loss: 310.4150 - mae: 15.3812 - val_loss: 179.3683 - val_mae: 12.0560\n",
      "Epoch 30/100\n",
      "21/21 [==============================] - 0s 1ms/step - loss: 298.6743 - mae: 15.1294 - val_loss: 181.7337 - val_mae: 12.1616\n",
      "Epoch 31/100\n",
      "21/21 [==============================] - 0s 1ms/step - loss: 286.8658 - mae: 14.7530 - val_loss: 180.7475 - val_mae: 12.1211\n",
      "Epoch 32/100\n",
      "21/21 [==============================] - 0s 2ms/step - loss: 273.6425 - mae: 14.3289 - val_loss: 164.6368 - val_mae: 11.4876\n",
      "Epoch 33/100\n",
      "21/21 [==============================] - 0s 1ms/step - loss: 253.3054 - mae: 13.3912 - val_loss: 153.7490 - val_mae: 11.0477\n",
      "Epoch 34/100\n",
      "21/21 [==============================] - 0s 1ms/step - loss: 251.5394 - mae: 13.3291 - val_loss: 139.5981 - val_mae: 10.4080\n",
      "Epoch 35/100\n",
      "21/21 [==============================] - 0s 1ms/step - loss: 241.8014 - mae: 13.1583 - val_loss: 130.3863 - val_mae: 10.0125\n",
      "Epoch 36/100\n",
      "21/21 [==============================] - 0s 1ms/step - loss: 225.2287 - mae: 12.6968 - val_loss: 117.9935 - val_mae: 9.4677\n",
      "Epoch 37/100\n",
      "21/21 [==============================] - 0s 1ms/step - loss: 228.0148 - mae: 12.4279 - val_loss: 115.6736 - val_mae: 9.3722\n",
      "Epoch 38/100\n",
      "21/21 [==============================] - 0s 1ms/step - loss: 202.2251 - mae: 11.8653 - val_loss: 118.8039 - val_mae: 9.5534\n",
      "Epoch 39/100\n",
      "21/21 [==============================] - 0s 1ms/step - loss: 193.5578 - mae: 11.3299 - val_loss: 108.3596 - val_mae: 9.0809\n",
      "Epoch 40/100\n",
      "21/21 [==============================] - 0s 1ms/step - loss: 182.3538 - mae: 10.9025 - val_loss: 105.2867 - val_mae: 8.9433\n",
      "Epoch 41/100\n",
      "21/21 [==============================] - 0s 1ms/step - loss: 168.2260 - mae: 10.3767 - val_loss: 102.5931 - val_mae: 8.8129\n",
      "Epoch 42/100\n",
      "21/21 [==============================] - 0s 1ms/step - loss: 169.8450 - mae: 10.2354 - val_loss: 87.6734 - val_mae: 8.0709\n",
      "Epoch 43/100\n",
      "21/21 [==============================] - 0s 1ms/step - loss: 154.6427 - mae: 9.7458 - val_loss: 71.4885 - val_mae: 7.1812\n",
      "Epoch 44/100\n",
      "21/21 [==============================] - 0s 1ms/step - loss: 150.5590 - mae: 9.6845 - val_loss: 72.0351 - val_mae: 7.2089\n",
      "Epoch 45/100\n",
      "21/21 [==============================] - 0s 1ms/step - loss: 139.8377 - mae: 9.3390 - val_loss: 76.5068 - val_mae: 7.4717\n",
      "Epoch 46/100\n",
      "21/21 [==============================] - 0s 1ms/step - loss: 140.7052 - mae: 9.1476 - val_loss: 70.5450 - val_mae: 7.1003\n",
      "Epoch 47/100\n",
      "21/21 [==============================] - 0s 1ms/step - loss: 140.7155 - mae: 9.1691 - val_loss: 73.1131 - val_mae: 7.2045\n",
      "Epoch 48/100\n",
      "21/21 [==============================] - 0s 1ms/step - loss: 123.2664 - mae: 8.3769 - val_loss: 66.0880 - val_mae: 6.8081\n",
      "Epoch 49/100\n",
      "21/21 [==============================] - 0s 1ms/step - loss: 107.0012 - mae: 7.7965 - val_loss: 62.9050 - val_mae: 6.5960\n",
      "Epoch 50/100\n",
      "21/21 [==============================] - 0s 1ms/step - loss: 106.5432 - mae: 7.7086 - val_loss: 54.5247 - val_mae: 6.0661\n",
      "Epoch 51/100\n",
      "21/21 [==============================] - 0s 1ms/step - loss: 97.3692 - mae: 7.2899 - val_loss: 40.5602 - val_mae: 5.1595\n",
      "Epoch 52/100\n",
      "21/21 [==============================] - 0s 1ms/step - loss: 91.3362 - mae: 7.1543 - val_loss: 35.1058 - val_mae: 4.7972\n",
      "Epoch 53/100\n",
      "21/21 [==============================] - 0s 1ms/step - loss: 86.6116 - mae: 7.1220 - val_loss: 40.1455 - val_mae: 5.1176\n",
      "Epoch 54/100\n",
      "21/21 [==============================] - 0s 2ms/step - loss: 87.4445 - mae: 7.0434 - val_loss: 36.8345 - val_mae: 4.9495\n",
      "Epoch 55/100\n",
      "21/21 [==============================] - 0s 2ms/step - loss: 99.2335 - mae: 7.1703 - val_loss: 30.7382 - val_mae: 4.4147\n",
      "Epoch 56/100\n",
      "21/21 [==============================] - 0s 1ms/step - loss: 85.9113 - mae: 6.7604 - val_loss: 27.2478 - val_mae: 4.1269\n",
      "Epoch 57/100\n",
      "21/21 [==============================] - 0s 1ms/step - loss: 83.9096 - mae: 6.5412 - val_loss: 39.0457 - val_mae: 4.9162\n",
      "Epoch 58/100\n",
      "21/21 [==============================] - 0s 1ms/step - loss: 71.2957 - mae: 6.1721 - val_loss: 30.1707 - val_mae: 4.2315\n",
      "Epoch 59/100\n",
      "21/21 [==============================] - 0s 1ms/step - loss: 86.3786 - mae: 6.7591 - val_loss: 20.1244 - val_mae: 3.2366\n",
      "Epoch 60/100\n",
      "21/21 [==============================] - 0s 1ms/step - loss: 77.6964 - mae: 6.3233 - val_loss: 16.7229 - val_mae: 2.9554\n",
      "Epoch 61/100\n",
      "21/21 [==============================] - 0s 1ms/step - loss: 79.4844 - mae: 6.8049 - val_loss: 19.1939 - val_mae: 3.1892\n",
      "Epoch 62/100\n",
      "21/21 [==============================] - 0s 1ms/step - loss: 72.2626 - mae: 6.3597 - val_loss: 14.0541 - val_mae: 2.9124\n",
      "Epoch 63/100\n",
      "21/21 [==============================] - 0s 1ms/step - loss: 88.2545 - mae: 7.0009 - val_loss: 14.1092 - val_mae: 3.0108\n",
      "Epoch 64/100\n",
      "21/21 [==============================] - 0s 1ms/step - loss: 72.8596 - mae: 6.3882 - val_loss: 14.4222 - val_mae: 2.8764\n",
      "Epoch 65/100\n",
      "21/21 [==============================] - 0s 1ms/step - loss: 66.0664 - mae: 6.1891 - val_loss: 15.8521 - val_mae: 2.9992\n",
      "Epoch 66/100\n",
      "21/21 [==============================] - 0s 1ms/step - loss: 67.4929 - mae: 6.0247 - val_loss: 14.7442 - val_mae: 2.9573\n",
      "Epoch 67/100\n",
      "21/21 [==============================] - 0s 1ms/step - loss: 75.7079 - mae: 6.4936 - val_loss: 19.7011 - val_mae: 3.4503\n",
      "Epoch 68/100\n",
      "21/21 [==============================] - 0s 1ms/step - loss: 73.0654 - mae: 6.2981 - val_loss: 17.3183 - val_mae: 3.2318\n",
      "Epoch 69/100\n",
      "21/21 [==============================] - 0s 1ms/step - loss: 69.2185 - mae: 6.3601 - val_loss: 12.8396 - val_mae: 2.7515\n",
      "Epoch 70/100\n",
      "21/21 [==============================] - 0s 1ms/step - loss: 71.2897 - mae: 6.2097 - val_loss: 14.8127 - val_mae: 2.9936\n",
      "Epoch 71/100\n",
      "21/21 [==============================] - 0s 1ms/step - loss: 69.1748 - mae: 6.2124 - val_loss: 13.5203 - val_mae: 2.8230\n",
      "Epoch 72/100\n",
      "21/21 [==============================] - 0s 1ms/step - loss: 82.6262 - mae: 6.7082 - val_loss: 14.0024 - val_mae: 2.9257\n",
      "Epoch 73/100\n",
      "21/21 [==============================] - 0s 1ms/step - loss: 66.3863 - mae: 5.8631 - val_loss: 12.4543 - val_mae: 2.6836\n",
      "Epoch 74/100\n",
      "21/21 [==============================] - 0s 1ms/step - loss: 72.0459 - mae: 6.3594 - val_loss: 14.0756 - val_mae: 2.8850\n",
      "Epoch 75/100\n",
      "21/21 [==============================] - 0s 1ms/step - loss: 75.5048 - mae: 6.4901 - val_loss: 13.7139 - val_mae: 2.8554\n",
      "Epoch 76/100\n",
      "21/21 [==============================] - 0s 1ms/step - loss: 66.7925 - mae: 6.3265 - val_loss: 15.3851 - val_mae: 3.0832\n",
      "Epoch 77/100\n",
      "21/21 [==============================] - 0s 1ms/step - loss: 70.1105 - mae: 6.1374 - val_loss: 13.6183 - val_mae: 2.8414\n",
      "Epoch 78/100\n",
      "21/21 [==============================] - 0s 1ms/step - loss: 70.2969 - mae: 6.1621 - val_loss: 14.3049 - val_mae: 2.8467\n",
      "Epoch 79/100\n",
      "21/21 [==============================] - 0s 1ms/step - loss: 69.9823 - mae: 6.1820 - val_loss: 13.4642 - val_mae: 2.7691\n",
      "Epoch 80/100\n",
      "21/21 [==============================] - 0s 1ms/step - loss: 76.3655 - mae: 6.5598 - val_loss: 15.0888 - val_mae: 2.9782\n",
      "Epoch 81/100\n",
      "21/21 [==============================] - 0s 1ms/step - loss: 68.7594 - mae: 6.1823 - val_loss: 13.2584 - val_mae: 2.7833\n",
      "Epoch 82/100\n",
      "21/21 [==============================] - 0s 2ms/step - loss: 68.3893 - mae: 6.1017 - val_loss: 13.3934 - val_mae: 2.8215\n",
      "Epoch 83/100\n",
      "21/21 [==============================] - 0s 1ms/step - loss: 65.8213 - mae: 6.0194 - val_loss: 18.7763 - val_mae: 3.3047\n",
      "Epoch 84/100\n",
      "21/21 [==============================] - 0s 1ms/step - loss: 70.3964 - mae: 6.1178 - val_loss: 15.7196 - val_mae: 3.0421\n",
      "Epoch 85/100\n",
      "21/21 [==============================] - 0s 1ms/step - loss: 66.4009 - mae: 6.0206 - val_loss: 15.6785 - val_mae: 2.9821\n",
      "Epoch 86/100\n",
      "21/21 [==============================] - 0s 1ms/step - loss: 81.9373 - mae: 6.3956 - val_loss: 16.5929 - val_mae: 3.0180\n",
      "Epoch 87/100\n",
      "21/21 [==============================] - 0s 1ms/step - loss: 64.4786 - mae: 5.8567 - val_loss: 14.6214 - val_mae: 2.8852\n",
      "Epoch 88/100\n",
      "21/21 [==============================] - 0s 2ms/step - loss: 69.3692 - mae: 6.2888 - val_loss: 13.1501 - val_mae: 2.7914\n",
      "Epoch 89/100\n",
      "21/21 [==============================] - 0s 2ms/step - loss: 68.6471 - mae: 6.0138 - val_loss: 15.5493 - val_mae: 2.9644\n",
      "Epoch 90/100\n",
      "21/21 [==============================] - 0s 1ms/step - loss: 73.3283 - mae: 6.1854 - val_loss: 16.0476 - val_mae: 3.0433\n",
      "Epoch 91/100\n",
      "21/21 [==============================] - 0s 1ms/step - loss: 62.9126 - mae: 5.7908 - val_loss: 14.4379 - val_mae: 2.8957\n",
      "Epoch 92/100\n",
      "21/21 [==============================] - 0s 2ms/step - loss: 69.6510 - mae: 5.9777 - val_loss: 12.3981 - val_mae: 2.7002\n",
      "Epoch 93/100\n",
      "21/21 [==============================] - 0s 1ms/step - loss: 65.5516 - mae: 6.1066 - val_loss: 12.1212 - val_mae: 2.6829\n",
      "Epoch 94/100\n",
      "21/21 [==============================] - 0s 1ms/step - loss: 58.6844 - mae: 5.9558 - val_loss: 13.8625 - val_mae: 2.7645\n",
      "Epoch 95/100\n",
      "21/21 [==============================] - 0s 1ms/step - loss: 69.6922 - mae: 6.2261 - val_loss: 19.9671 - val_mae: 3.3287\n",
      "Epoch 96/100\n",
      "21/21 [==============================] - 0s 1ms/step - loss: 63.5316 - mae: 5.6762 - val_loss: 19.7787 - val_mae: 3.3332\n",
      "Epoch 97/100\n",
      "21/21 [==============================] - 0s 1ms/step - loss: 66.1790 - mae: 5.7640 - val_loss: 17.7437 - val_mae: 3.0959\n",
      "Epoch 98/100\n",
      "21/21 [==============================] - 0s 1ms/step - loss: 60.7263 - mae: 5.7922 - val_loss: 15.2211 - val_mae: 2.9518\n",
      "Epoch 99/100\n",
      "21/21 [==============================] - 0s 1ms/step - loss: 61.4418 - mae: 5.9722 - val_loss: 19.0506 - val_mae: 3.3194\n",
      "Epoch 100/100\n",
      "21/21 [==============================] - 0s 1ms/step - loss: 59.5253 - mae: 5.6226 - val_loss: 14.5489 - val_mae: 2.9122\n"
     ]
    }
   ],
   "source": [
    "history = model.fit(x_train, y_train,\n",
    "                    epochs = 100,\n",
    "                    batch_size = 16,\n",
    "                    validation_data = (x_val, y_val)\n",
    "                    )"
   ]
  },
  {
   "cell_type": "code",
   "execution_count": 69,
   "id": "21d56a61",
   "metadata": {},
   "outputs": [
    {
     "data": {
      "image/png": "[encoded data removed]",
      "text/plain": [
       "<Figure size 1200x500 with 2 Axes>"
      ]
     },
     "metadata": {},
     "output_type": "display_data"
    }
   ],
   "source": [
    "# 모델 학습 히스토리에서 loss, val_loss, mae, val_mae를 차트로 보여줍니다.\n",
    "plt.style.use('seaborn-white')\n",
    "\n",
    "history_dict = history.history\n",
    "\n",
    "loss = history_dict['loss']\n",
    "val_loss = history_dict['val_loss']\n",
    "\n",
    "epochs = range(1, len(loss) + 1)\n",
    "fig = plt.figure(figsize=(12, 5))\n",
    "\n",
    "ax1 = fig.add_subplot(1, 2, 1)\n",
    "ax1.plot(epochs, loss, 'b-', label='train_loss')\n",
    "ax1.plot(epochs, val_loss, 'r-', label='val_loss')\n",
    "ax1.set_title('Train and Validation Loss')\n",
    "ax1.set_xlabel('Epochs')\n",
    "ax1.set_ylabel('Loss')\n",
    "ax1.grid()\n",
    "ax1.legend()\n",
    "\n",
    "mae = history_dict['mae']\n",
    "val_mae = history_dict['val_mae']\n",
    "\n",
    "ax2 = fig.add_subplot(1, 2, 2)\n",
    "ax2.plot(epochs, mae, 'b-', label='train_mae')\n",
    "ax2.plot(epochs, val_mae, 'r-', label='val_mae')\n",
    "ax2.set_title('Train and Validation MAE')\n",
    "ax2.set_xlabel('Epochs')\n",
    "ax2.set_ylabel('MAE')\n",
    "ax2.grid()\n",
    "ax2.legend()\n",
    "\n",
    "plt.show()"
   ]
  },
  {
   "cell_type": "markdown",
   "id": "f34516c5",
   "metadata": {},
   "source": [
    "## 모델 평가 및 예측"
   ]
  },
  {
   "cell_type": "code",
   "execution_count": 70,
   "id": "96e878bc",
   "metadata": {},
   "outputs": [
    {
     "name": "stdout",
     "output_type": "stream",
     "text": [
      "4/4 [==============================] - 0s 1ms/step\n"
     ]
    }
   ],
   "source": [
    "y_pred = model.predict(x_test)"
   ]
  },
  {
   "cell_type": "code",
   "execution_count": 71,
   "id": "36cb02ce",
   "metadata": {},
   "outputs": [
    {
     "name": "stdout",
     "output_type": "stream",
     "text": [
      "RMSE: 18.7134\n",
      "MAE : 17.4225\n"
     ]
    }
   ],
   "source": [
    "from sklearn.metrics import mean_squared_error, mean_absolute_error\n",
    "mse = mean_squared_error(y_test, y_pred)\n",
    "rmse = np.sqrt(mse)\n",
    "mae = mean_absolute_error(y_test, y_pred)\n",
    "\n",
    "print(f'RMSE: {rmse:.4f}')\n",
    "print(f'MAE : {mae:.4f}')"
   ]
  },
  {
   "cell_type": "markdown",
   "id": "4d2c6c5f",
   "metadata": {},
   "source": [
    "# Reuters 딥러닝 모델"
   ]
  },
  {
   "cell_type": "markdown",
   "id": "ffaacb0c",
   "metadata": {},
   "source": [
    "## 데이터 로드 및 전처리"
   ]
  },
  {
   "cell_type": "code",
   "execution_count": 85,
   "id": "43b08bd9",
   "metadata": {},
   "outputs": [],
   "source": [
    "from tensorflow.keras import callbacks\n",
    "from tensorflow.keras import utils\n",
    "from keras.datasets import reuters"
   ]
  },
  {
   "cell_type": "code",
   "execution_count": 86,
   "id": "88aa1d74",
   "metadata": {},
   "outputs": [
    {
     "name": "stdout",
     "output_type": "stream",
     "text": [
      "8982\n",
      "2246\n",
      "2246\n",
      "46\n"
     ]
    }
   ],
   "source": [
    "(x_train_full, y_train_full), (x_test, y_test) = reuters.load_data(num_words=10000)\n",
    "\n",
    "x_train, x_val, y_train, y_val = train_test_split(x_train_full, y_train_full,\n",
    "                                                  test_size = 0.25,\n",
    "                                                  random_state = 42)\n",
    "\n",
    "print(len(x_train_full))\n",
    "print(len(x_val))\n",
    "print(len(x_test))\n",
    "print(len(set(y_train_full)))"
   ]
  },
  {
   "cell_type": "code",
   "execution_count": 87,
   "id": "8d6c1e7c",
   "metadata": {},
   "outputs": [],
   "source": [
    "def one_hot_encoding(data, dim=10000):\n",
    "  results = np.zeros((len(data), dim))\n",
    "  for i, d in enumerate(data):\n",
    "    results[i, d] = 1.\n",
    "  return results\n",
    "\n",
    "x_train = one_hot_encoding(x_train)\n",
    "x_val = one_hot_encoding(x_val)\n",
    "x_test = one_hot_encoding(x_test)"
   ]
  },
  {
   "cell_type": "code",
   "execution_count": 88,
   "id": "f19fc32a",
   "metadata": {},
   "outputs": [],
   "source": [
    "y_train = utils.to_categorical(y_train)\n",
    "y_val = utils.to_categorical(y_val)\n",
    "y_test = utils.to_categorical(y_test)"
   ]
  },
  {
   "cell_type": "markdown",
   "id": "970ce228",
   "metadata": {},
   "source": [
    "## 모델 구성 및 컴파일"
   ]
  },
  {
   "cell_type": "code",
   "execution_count": 89,
   "id": "63486232",
   "metadata": {},
   "outputs": [
    {
     "name": "stdout",
     "output_type": "stream",
     "text": [
      "Model: \"sequential_6\"\n",
      "_________________________________________________________________\n",
      " Layer (type)                Output Shape              Param #   \n",
      "=================================================================\n",
      " dense_18 (Dense)            (None, 128)               1280128   \n",
      "                                                                 \n",
      " batch_normalization_8 (Batc  (None, 128)              512       \n",
      " hNormalization)                                                 \n",
      "                                                                 \n",
      " activation_8 (Activation)   (None, 128)               0         \n",
      "                                                                 \n",
      " dropout_8 (Dropout)         (None, 128)               0         \n",
      "                                                                 \n",
      " dense_19 (Dense)            (None, 64)                8256      \n",
      "                                                                 \n",
      " batch_normalization_9 (Batc  (None, 64)               256       \n",
      " hNormalization)                                                 \n",
      "                                                                 \n",
      " activation_9 (Activation)   (None, 64)                0         \n",
      "                                                                 \n",
      " dropout_9 (Dropout)         (None, 64)                0         \n",
      "                                                                 \n",
      " dense_20 (Dense)            (None, 46)                2990      \n",
      "                                                                 \n",
      "=================================================================\n",
      "Total params: 1,292,142\n",
      "Trainable params: 1,291,758\n",
      "Non-trainable params: 384\n",
      "_________________________________________________________________\n"
     ]
    }
   ],
   "source": [
    "model = models.Sequential()\n",
    "model.add(layers.Dense(128, input_shape=(10000, ), kernel_regularizer='l2'))\n",
    "model.add(layers.BatchNormalization())\n",
    "model.add(layers.Activation('relu')) \n",
    "model.add(layers.Dropout(0.3))\n",
    "model.add(layers.Dense(64, kernel_regularizer='l2'))\n",
    "model.add(layers.BatchNormalization())\n",
    "model.add(layers.Activation('relu')) \n",
    "model.add(layers.Dropout(0.3))\n",
    "model.add(layers.Dense(46, activation='softmax'))\n",
    "\n",
    "model.compile(optimizer='adam',\n",
    "              loss='categorical_crossentropy',\n",
    "              metrics=['accuracy'])\n",
    "model.summary()"
   ]
  },
  {
   "cell_type": "markdown",
   "id": "080936fe",
   "metadata": {},
   "source": [
    "## 모델 학습"
   ]
  },
  {
   "cell_type": "code",
   "execution_count": 90,
   "id": "b6f2e7e2",
   "metadata": {},
   "outputs": [
    {
     "name": "stdout",
     "output_type": "stream",
     "text": [
      "Epoch 1/40\n",
      "14/14 [==============================] - 1s 29ms/step - loss: 5.8465 - accuracy: 0.3165 - val_loss: 5.6416 - val_accuracy: 0.5779\n",
      "Epoch 2/40\n",
      "14/14 [==============================] - 0s 20ms/step - loss: 3.8559 - accuracy: 0.6357 - val_loss: 4.8144 - val_accuracy: 0.6861\n",
      "Epoch 3/40\n",
      "14/14 [==============================] - 0s 20ms/step - loss: 2.9382 - accuracy: 0.7424 - val_loss: 4.2764 - val_accuracy: 0.7271\n",
      "Epoch 4/40\n",
      "14/14 [==============================] - 0s 22ms/step - loss: 2.3480 - accuracy: 0.7855 - val_loss: 3.9058 - val_accuracy: 0.7333\n",
      "Epoch 5/40\n",
      "14/14 [==============================] - 0s 21ms/step - loss: 1.9316 - accuracy: 0.8248 - val_loss: 3.6563 - val_accuracy: 0.7142\n",
      "Epoch 6/40\n",
      "14/14 [==============================] - 0s 20ms/step - loss: 1.6422 - accuracy: 0.8489 - val_loss: 3.4706 - val_accuracy: 0.6242\n",
      "Epoch 7/40\n",
      "14/14 [==============================] - 0s 20ms/step - loss: 1.4214 - accuracy: 0.8694 - val_loss: 3.2708 - val_accuracy: 0.5534\n",
      "Epoch 8/40\n",
      "14/14 [==============================] - 0s 22ms/step - loss: 1.2632 - accuracy: 0.8851 - val_loss: 3.1167 - val_accuracy: 0.4760\n",
      "Epoch 9/40\n",
      "14/14 [==============================] - 0s 20ms/step - loss: 1.1484 - accuracy: 0.8961 - val_loss: 2.9639 - val_accuracy: 0.4417\n",
      "Epoch 10/40\n",
      "14/14 [==============================] - 0s 21ms/step - loss: 1.0487 - accuracy: 0.9060 - val_loss: 2.8520 - val_accuracy: 0.3945\n",
      "Epoch 11/40\n",
      "14/14 [==============================] - 0s 21ms/step - loss: 0.9776 - accuracy: 0.9094 - val_loss: 2.7499 - val_accuracy: 0.3753\n",
      "Epoch 12/40\n",
      "14/14 [==============================] - 0s 22ms/step - loss: 0.9155 - accuracy: 0.9189 - val_loss: 2.6498 - val_accuracy: 0.3776\n",
      "Epoch 13/40\n",
      "14/14 [==============================] - 0s 20ms/step - loss: 0.8738 - accuracy: 0.9195 - val_loss: 2.5501 - val_accuracy: 0.3740\n",
      "Epoch 14/40\n",
      "14/14 [==============================] - 0s 21ms/step - loss: 0.8275 - accuracy: 0.9215 - val_loss: 2.4736 - val_accuracy: 0.3758\n",
      "Epoch 15/40\n",
      "14/14 [==============================] - 0s 23ms/step - loss: 0.7956 - accuracy: 0.9295 - val_loss: 2.3723 - val_accuracy: 0.3958\n",
      "Epoch 16/40\n",
      "14/14 [==============================] - 0s 21ms/step - loss: 0.7555 - accuracy: 0.9317 - val_loss: 2.2973 - val_accuracy: 0.4047\n",
      "Epoch 17/40\n",
      "14/14 [==============================] - 0s 20ms/step - loss: 0.7248 - accuracy: 0.9347 - val_loss: 2.2207 - val_accuracy: 0.4337\n",
      "Epoch 18/40\n",
      "14/14 [==============================] - 0s 21ms/step - loss: 0.7071 - accuracy: 0.9362 - val_loss: 2.2247 - val_accuracy: 0.4212\n",
      "Epoch 19/40\n",
      "14/14 [==============================] - 0s 21ms/step - loss: 0.7183 - accuracy: 0.9356 - val_loss: 2.0320 - val_accuracy: 0.4924\n",
      "Epoch 20/40\n",
      "14/14 [==============================] - 0s 21ms/step - loss: 0.7055 - accuracy: 0.9316 - val_loss: 2.1074 - val_accuracy: 0.4711\n",
      "Epoch 21/40\n",
      "14/14 [==============================] - 0s 21ms/step - loss: 0.6854 - accuracy: 0.9423 - val_loss: 1.9900 - val_accuracy: 0.4987\n",
      "Epoch 22/40\n",
      "14/14 [==============================] - 0s 22ms/step - loss: 0.6811 - accuracy: 0.9385 - val_loss: 1.8542 - val_accuracy: 0.5490\n",
      "Epoch 23/40\n",
      "14/14 [==============================] - 0s 21ms/step - loss: 0.6405 - accuracy: 0.9420 - val_loss: 1.9790 - val_accuracy: 0.4982\n",
      "Epoch 24/40\n",
      "14/14 [==============================] - 0s 21ms/step - loss: 0.6308 - accuracy: 0.9423 - val_loss: 1.8268 - val_accuracy: 0.5543\n",
      "Epoch 25/40\n",
      "14/14 [==============================] - 0s 21ms/step - loss: 0.6244 - accuracy: 0.9437 - val_loss: 1.8668 - val_accuracy: 0.5280\n",
      "Epoch 26/40\n",
      "14/14 [==============================] - 0s 21ms/step - loss: 0.6284 - accuracy: 0.9403 - val_loss: 1.6361 - val_accuracy: 0.6451\n",
      "Epoch 27/40\n",
      "14/14 [==============================] - 0s 24ms/step - loss: 0.6253 - accuracy: 0.9414 - val_loss: 1.6186 - val_accuracy: 0.6447\n",
      "Epoch 28/40\n",
      "14/14 [==============================] - 0s 23ms/step - loss: 0.6377 - accuracy: 0.9381 - val_loss: 1.6593 - val_accuracy: 0.6362\n",
      "Epoch 29/40\n",
      "14/14 [==============================] - 0s 21ms/step - loss: 0.6344 - accuracy: 0.9427 - val_loss: 1.4628 - val_accuracy: 0.7195\n",
      "Epoch 30/40\n",
      "14/14 [==============================] - 0s 20ms/step - loss: 0.6461 - accuracy: 0.9335 - val_loss: 1.4553 - val_accuracy: 0.7231\n",
      "Epoch 31/40\n",
      "14/14 [==============================] - 0s 20ms/step - loss: 0.6532 - accuracy: 0.9414 - val_loss: 1.4351 - val_accuracy: 0.7440\n",
      "Epoch 32/40\n",
      "14/14 [==============================] - 0s 23ms/step - loss: 0.6419 - accuracy: 0.9434 - val_loss: 1.3721 - val_accuracy: 0.7654\n",
      "Epoch 33/40\n",
      "14/14 [==============================] - 0s 20ms/step - loss: 0.6292 - accuracy: 0.9442 - val_loss: 1.3547 - val_accuracy: 0.7627\n",
      "Epoch 34/40\n",
      "14/14 [==============================] - 0s 20ms/step - loss: 0.6107 - accuracy: 0.9467 - val_loss: 1.3185 - val_accuracy: 0.7774\n",
      "Epoch 35/40\n",
      "14/14 [==============================] - 0s 24ms/step - loss: 0.6078 - accuracy: 0.9434 - val_loss: 1.3194 - val_accuracy: 0.7787\n",
      "Epoch 36/40\n",
      "14/14 [==============================] - 0s 21ms/step - loss: 0.6026 - accuracy: 0.9451 - val_loss: 1.2757 - val_accuracy: 0.7930\n",
      "Epoch 37/40\n",
      "14/14 [==============================] - 0s 20ms/step - loss: 0.6014 - accuracy: 0.9452 - val_loss: 1.2661 - val_accuracy: 0.7947\n",
      "Epoch 38/40\n",
      "14/14 [==============================] - 0s 20ms/step - loss: 0.6068 - accuracy: 0.9473 - val_loss: 1.3333 - val_accuracy: 0.7747\n",
      "Epoch 39/40\n",
      "14/14 [==============================] - 0s 22ms/step - loss: 0.6289 - accuracy: 0.9369 - val_loss: 1.2864 - val_accuracy: 0.7983\n",
      "Epoch 40/40\n",
      "14/14 [==============================] - 0s 20ms/step - loss: 0.6210 - accuracy: 0.9469 - val_loss: 1.3374 - val_accuracy: 0.7858\n"
     ]
    }
   ],
   "source": [
    "from tensorflow.keras import callbacks\n",
    "\n",
    "check_point_cb = callbacks.ModelCheckpoint('keras_reuters_model.h5', save_best_only=True)\n",
    "\n",
    "early_stopping_cb = callbacks.EarlyStopping(patience=5, monitor='val_loss',\n",
    "                                  restore_best_weights=True)\n",
    "\n",
    "history = model.fit(x_train, y_train,\n",
    "                    epochs=40,\n",
    "                    batch_size=512,\n",
    "                    validation_data=(x_val, y_val))"
   ]
  },
  {
   "cell_type": "code",
   "execution_count": 91,
   "id": "b1f57e2c",
   "metadata": {},
   "outputs": [
    {
     "data": {
      "image/png": "[encoded data removed]",
      "text/plain": [
       "<Figure size 1200x500 with 2 Axes>"
      ]
     },
     "metadata": {},
     "output_type": "display_data"
    }
   ],
   "source": [
    "# 히스토리의 `loss`, `val_loss`, `accuracy`, `val_accuracy`를 차트로 시각화\n",
    "plt.style.use('seaborn-white')\n",
    "\n",
    "history_dict = history.history\n",
    "\n",
    "loss = history_dict['loss']\n",
    "val_loss = history_dict['val_loss']\n",
    "\n",
    "epochs = range(1, len(loss) + 1)\n",
    "fig = plt.figure(figsize=(12, 5))\n",
    "\n",
    "ax1 = fig.add_subplot(1, 2, 1)\n",
    "ax1.plot(epochs, loss, 'b-', label='train_loss')\n",
    "ax1.plot(epochs, val_loss, 'r-', label='val_loss')\n",
    "ax1.set_title('Train and Validation Loss')\n",
    "ax1.set_xlabel('Epochs')\n",
    "ax1.set_ylabel('Loss')\n",
    "ax1.grid()\n",
    "ax1.legend()\n",
    "\n",
    "accuracy = history_dict['accuracy']\n",
    "val_accuracy = history_dict['val_accuracy']\n",
    "\n",
    "ax2 = fig.add_subplot(1, 2, 2)\n",
    "ax2.plot(epochs, accuracy, 'b-', label='train_accuracy')\n",
    "ax2.plot(epochs, val_accuracy, 'r-', label='val_accuracy')\n",
    "ax2.set_title('Train and Validation Accuracy')\n",
    "ax2.set_xlabel('Epochs')\n",
    "ax2.set_ylabel('Accuracy')\n",
    "ax2.grid()\n",
    "ax2.legend()\n",
    "\n",
    "plt.show()"
   ]
  },
  {
   "cell_type": "markdown",
   "id": "9ae54ce9",
   "metadata": {},
   "source": [
    "## 모델 평가 및 예측"
   ]
  },
  {
   "cell_type": "code",
   "execution_count": 92,
   "id": "7376e969",
   "metadata": {},
   "outputs": [
    {
     "name": "stdout",
     "output_type": "stream",
     "text": [
      "71/71 [==============================] - 0s 2ms/step - loss: 1.3964 - accuracy: 0.7752\n"
     ]
    },
    {
     "data": {
      "text/plain": [
       "[1.396435260772705, 0.7751558423042297]"
      ]
     },
     "execution_count": 92,
     "metadata": {},
     "output_type": "execute_result"
    }
   ],
   "source": [
    "model.evaluate(x_test, y_test)"
   ]
  },
  {
   "cell_type": "code",
   "execution_count": 95,
   "id": "70d304f4",
   "metadata": {},
   "outputs": [
    {
     "name": "stdout",
     "output_type": "stream",
     "text": [
      "71/71 [==============================] - 0s 2ms/step\n",
      "              precision    recall  f1-score   support\n",
      "\n",
      "           0       0.89      0.67      0.76        12\n",
      "           1       0.71      0.71      0.71       105\n",
      "           2       0.72      0.65      0.68        20\n",
      "           3       0.85      0.94      0.90       813\n",
      "           4       0.84      0.85      0.85       474\n",
      "           5       0.00      0.00      0.00         5\n",
      "           6       0.92      0.86      0.89        14\n",
      "           7       1.00      0.33      0.50         3\n",
      "           8       0.76      0.68      0.72        38\n",
      "           9       0.84      0.64      0.73        25\n",
      "          10       0.86      0.83      0.85        30\n",
      "          11       0.61      0.76      0.68        83\n",
      "          12       0.40      0.15      0.22        13\n",
      "          13       0.50      0.54      0.52        37\n",
      "          14       0.00      0.00      0.00         2\n",
      "          15       0.00      0.00      0.00         9\n",
      "          16       0.72      0.69      0.70        99\n",
      "          17       0.86      0.50      0.63        12\n",
      "          18       0.79      0.55      0.65        20\n",
      "          19       0.52      0.79      0.63       133\n",
      "          20       0.51      0.44      0.47        70\n",
      "          21       0.76      0.48      0.59        27\n",
      "          22       0.00      0.00      0.00         7\n",
      "          23       0.50      0.08      0.14        12\n",
      "          24       0.71      0.26      0.38        19\n",
      "          25       0.77      0.55      0.64        31\n",
      "          26       1.00      0.50      0.67         8\n",
      "          27       1.00      0.25      0.40         4\n",
      "          28       0.50      0.20      0.29        10\n",
      "          29       0.50      0.50      0.50         4\n",
      "          30       1.00      0.17      0.29        12\n",
      "          31       0.67      0.31      0.42        13\n",
      "          32       1.00      0.80      0.89        10\n",
      "          33       1.00      0.80      0.89         5\n",
      "          34       0.75      0.43      0.55         7\n",
      "          35       1.00      0.33      0.50         6\n",
      "          36       0.67      0.36      0.47        11\n",
      "          37       1.00      0.50      0.67         2\n",
      "          38       0.00      0.00      0.00         3\n",
      "          39       0.50      0.20      0.29         5\n",
      "          40       0.00      0.00      0.00        10\n",
      "          41       0.50      0.25      0.33         8\n",
      "          42       0.00      0.00      0.00         3\n",
      "          43       0.86      1.00      0.92         6\n",
      "          44       1.00      0.80      0.89         5\n",
      "          45       1.00      1.00      1.00         1\n",
      "\n",
      "    accuracy                           0.78      2246\n",
      "   macro avg       0.65      0.46      0.52      2246\n",
      "weighted avg       0.77      0.78      0.76      2246\n",
      "\n"
     ]
    },
    {
     "name": "stderr",
     "output_type": "stream",
     "text": [
      "c:\\Users\\user\\AppData\\Local\\Programs\\Python\\Python310\\lib\\site-packages\\sklearn\\metrics\\_classification.py:1318: UndefinedMetricWarning: Precision and F-score are ill-defined and being set to 0.0 in labels with no predicted samples. Use `zero_division` parameter to control this behavior.\n",
      "  _warn_prf(average, modifier, msg_start, len(result))\n",
      "c:\\Users\\user\\AppData\\Local\\Programs\\Python\\Python310\\lib\\site-packages\\sklearn\\metrics\\_classification.py:1318: UndefinedMetricWarning: Precision and F-score are ill-defined and being set to 0.0 in labels with no predicted samples. Use `zero_division` parameter to control this behavior.\n",
      "  _warn_prf(average, modifier, msg_start, len(result))\n",
      "c:\\Users\\user\\AppData\\Local\\Programs\\Python\\Python310\\lib\\site-packages\\sklearn\\metrics\\_classification.py:1318: UndefinedMetricWarning: Precision and F-score are ill-defined and being set to 0.0 in labels with no predicted samples. Use `zero_division` parameter to control this behavior.\n",
      "  _warn_prf(average, modifier, msg_start, len(result))\n"
     ]
    }
   ],
   "source": [
    "y_pred = model.predict(x_test)\n",
    "\n",
    "from sklearn.metrics import classification_report\n",
    "\n",
    "print(\n",
    "    classification_report(\n",
    "    np.argmax(y_test, axis=-1),\n",
    "    np.argmax(y_pred, axis=-1)      \n",
    ")\n",
    ")"
   ]
  },
  {
   "cell_type": "markdown",
   "id": "0254361e",
   "metadata": {},
   "source": [
    "# CIFAR10 딥러닝 모델"
   ]
  },
  {
   "cell_type": "markdown",
   "id": "f64c8af9",
   "metadata": {},
   "source": [
    "## 데이터 로드 및 전처리"
   ]
  },
  {
   "cell_type": "code",
   "execution_count": 102,
   "id": "6c62808c",
   "metadata": {},
   "outputs": [
    {
     "name": "stdout",
     "output_type": "stream",
     "text": [
      "전체 학습 데이터: (50000, 32, 32, 3) 레이블: (50000, 1)\n",
      "학습 데이터: (40000, 32, 32, 3) 레이블: (40000, 1)\n",
      "검증 데이터: (10000, 32, 32, 3) 레이블: (10000, 1)\n",
      "테스트 데이터: (10000, 32, 32, 3) 레이블: (10000, 1)\n"
     ]
    }
   ],
   "source": [
    "from tensorflow.keras.datasets import cifar10\n",
    "\n",
    "(x_train_full, y_train_full), (x_test, y_test) = cifar10.load_data()   \n",
    "\n",
    "x_train, x_val, y_train, y_val = train_test_split(x_train_full, y_train_full,\n",
    "                                                  test_size = 0.2,\n",
    "                                                  random_state = 42)\n",
    "\n",
    "print(\"전체 학습 데이터: {} 레이블: {}\".format(x_train_full.shape, y_train_full.shape))\n",
    "print(\"학습 데이터: {} 레이블: {}\".format(x_train.shape, y_train.shape))\n",
    "print(\"검증 데이터: {} 레이블: {}\".format(x_val.shape, y_val.shape))\n",
    "print(\"테스트 데이터: {} 레이블: {}\".format(x_test.shape, y_test.shape))"
   ]
  },
  {
   "cell_type": "code",
   "execution_count": 103,
   "id": "adf0cec0",
   "metadata": {},
   "outputs": [],
   "source": [
    "# cifar10의 분류에 해당하는 'airplane', 'automobile', 'bird', 'cat', 'deer', \n",
    "# 'dog', 'frog', 'horse', 'ship', 'truck'를 class_name으로 정의\n",
    "class_names = ['airplane', 'automobile', 'bird', 'cat', 'deer',\n",
    "               'dog', 'frog', 'horse', 'ship', 'truck']"
   ]
  },
  {
   "cell_type": "code",
   "execution_count": 104,
   "id": "fb52e132",
   "metadata": {},
   "outputs": [
    {
     "data": {
      "image/png": "[encoded data removed]",
      "text/plain": [
       "<Figure size 640x480 with 2 Axes>"
      ]
     },
     "metadata": {},
     "output_type": "display_data"
    }
   ],
   "source": [
    "# 훈련 데이터의 0번째인 x_train[0]를 이미지로 시각화\n",
    "plt.style.use('seaborn-white')\n",
    "\n",
    "plt.figure()\n",
    "plt.imshow(x_train[0])\n",
    "plt.colorbar()\n",
    "plt.show()"
   ]
  },
  {
   "cell_type": "code",
   "execution_count": 107,
   "id": "d2e5e330",
   "metadata": {},
   "outputs": [
    {
     "data": {
      "text/plain": [
       "40000"
      ]
     },
     "execution_count": 107,
     "metadata": {},
     "output_type": "execute_result"
    }
   ],
   "source": [
    "x_train.shape[0]"
   ]
  },
  {
   "cell_type": "code",
   "execution_count": 112,
   "id": "460ae677",
   "metadata": {},
   "outputs": [
    {
     "data": {
      "text/plain": [
       "array([6], dtype=uint8)"
      ]
     },
     "execution_count": 112,
     "metadata": {},
     "output_type": "execute_result"
    }
   ],
   "source": [
    "y_train[0]"
   ]
  },
  {
   "cell_type": "code",
   "execution_count": null,
   "id": "046a6230",
   "metadata": {},
   "outputs": [
    {
     "name": "stdout",
     "output_type": "stream",
     "text": [
      "(40000, 3072)\n",
      "(10000, 3072)\n",
      "(10000, 3072)\n"
     ]
    }
   ],
   "source": [
    "# reshape\n",
    "\n",
    "x_train = x_train.reshape(x_train.shape[0], 32*32*3)\n",
    "x_val   = x_val.reshape(x_val.shape[0], 32*32*3)\n",
    "x_test  = x_test.reshape(x_test.shape[0], 32*32*3)\n",
    "\n",
    "print(x_train.shape)\n",
    "print(x_val.shape)\n",
    "print(x_test.shape)"
   ]
  },
  {
   "cell_type": "code",
   "execution_count": 109,
   "id": "8a3f2bed",
   "metadata": {},
   "outputs": [],
   "source": [
    "# scaling\n",
    "\n",
    "x_train = x_train / 255.\n",
    "x_val = x_val / 255.\n",
    "x_test = x_test / 255."
   ]
  },
  {
   "cell_type": "markdown",
   "id": "e444e598",
   "metadata": {},
   "source": [
    "## 모델 구성 및 컴파일"
   ]
  },
  {
   "cell_type": "code",
   "execution_count": 121,
   "id": "1b2a63f5",
   "metadata": {},
   "outputs": [
    {
     "name": "stdout",
     "output_type": "stream",
     "text": [
      "Model: \"sequential_11\"\n",
      "_________________________________________________________________\n",
      " Layer (type)                Output Shape              Param #   \n",
      "=================================================================\n",
      " dense_37 (Dense)            (None, 256)               786688    \n",
      "                                                                 \n",
      " batch_normalization_22 (Bat  (None, 256)              1024      \n",
      " chNormalization)                                                \n",
      "                                                                 \n",
      " activation_22 (Activation)  (None, 256)               0         \n",
      "                                                                 \n",
      " dropout_22 (Dropout)        (None, 256)               0         \n",
      "                                                                 \n",
      " dense_38 (Dense)            (None, 128)               32896     \n",
      "                                                                 \n",
      " batch_normalization_23 (Bat  (None, 128)              512       \n",
      " chNormalization)                                                \n",
      "                                                                 \n",
      " activation_23 (Activation)  (None, 128)               0         \n",
      "                                                                 \n",
      " dropout_23 (Dropout)        (None, 128)               0         \n",
      "                                                                 \n",
      " dense_39 (Dense)            (None, 64)                8256      \n",
      "                                                                 \n",
      " batch_normalization_24 (Bat  (None, 64)               256       \n",
      " chNormalization)                                                \n",
      "                                                                 \n",
      " activation_24 (Activation)  (None, 64)                0         \n",
      "                                                                 \n",
      " dropout_24 (Dropout)        (None, 64)                0         \n",
      "                                                                 \n",
      " dense_40 (Dense)            (None, 10)                650       \n",
      "                                                                 \n",
      "=================================================================\n",
      "Total params: 830,282\n",
      "Trainable params: 829,386\n",
      "Non-trainable params: 896\n",
      "_________________________________________________________________\n"
     ]
    }
   ],
   "source": [
    "model = models.Sequential()\n",
    "\n",
    "model.add(layers.Dense(256, input_shape=(3072, ), kernel_regularizer='l2'))\n",
    "model.add(layers.BatchNormalization())\n",
    "model.add(layers.Activation('relu'))\n",
    "model.add(layers.Dropout(0.3))\n",
    "\n",
    "model.add(layers.Dense(128, kernel_regularizer='l2'))\n",
    "model.add(layers.BatchNormalization())\n",
    "model.add(layers.Activation('elu'))\n",
    "model.add(layers.Dropout(0.2))\n",
    "\n",
    "model.add(layers.Dense(64, kernel_regularizer='l2'))\n",
    "model.add(layers.BatchNormalization())\n",
    "model.add(layers.Activation('relu')) \n",
    "model.add(layers.Dropout(0.1))\n",
    "\n",
    "model.add(layers.Dense(10, activation='softmax'))\n",
    "\n",
    "model.compile(optimizer='adam',\n",
    "              loss='sparse_categorical_crossentropy',\n",
    "              metrics=['accuracy'])\n",
    "\n",
    "model.summary()"
   ]
  },
  {
   "cell_type": "markdown",
   "id": "cd8ae7bc",
   "metadata": {},
   "source": [
    "## 모델 학습"
   ]
  },
  {
   "cell_type": "code",
   "execution_count": 122,
   "id": "82d11dae",
   "metadata": {},
   "outputs": [
    {
     "name": "stdout",
     "output_type": "stream",
     "text": [
      "Epoch 1/20\n",
      "313/313 [==============================] - 2s 7ms/step - loss: 3.9287 - accuracy: 0.3333 - val_loss: 2.7050 - val_accuracy: 0.2063\n",
      "Epoch 2/20\n",
      "313/313 [==============================] - 2s 7ms/step - loss: 2.1798 - accuracy: 0.3684 - val_loss: 2.3207 - val_accuracy: 0.2883\n",
      "Epoch 3/20\n",
      "313/313 [==============================] - 2s 6ms/step - loss: 2.0390 - accuracy: 0.3752 - val_loss: 2.1568 - val_accuracy: 0.3185\n",
      "Epoch 4/20\n",
      "313/313 [==============================] - 2s 7ms/step - loss: 2.0115 - accuracy: 0.3773 - val_loss: 2.3927 - val_accuracy: 0.2260\n",
      "Epoch 5/20\n",
      "313/313 [==============================] - 2s 7ms/step - loss: 2.0030 - accuracy: 0.3780 - val_loss: 2.2312 - val_accuracy: 0.2943\n",
      "Epoch 6/20\n",
      "313/313 [==============================] - 2s 7ms/step - loss: 2.0037 - accuracy: 0.3784 - val_loss: 2.3897 - val_accuracy: 0.2372\n",
      "Epoch 7/20\n",
      "313/313 [==============================] - 2s 7ms/step - loss: 2.0010 - accuracy: 0.3790 - val_loss: 2.3287 - val_accuracy: 0.2445\n",
      "Epoch 8/20\n",
      "313/313 [==============================] - 2s 7ms/step - loss: 1.9969 - accuracy: 0.3811 - val_loss: 2.4409 - val_accuracy: 0.2196\n",
      "Epoch 9/20\n",
      "313/313 [==============================] - 2s 6ms/step - loss: 1.9952 - accuracy: 0.3808 - val_loss: 2.3495 - val_accuracy: 0.2549\n",
      "Epoch 10/20\n",
      "313/313 [==============================] - 2s 6ms/step - loss: 1.9928 - accuracy: 0.3808 - val_loss: 2.2408 - val_accuracy: 0.2769\n",
      "Epoch 11/20\n",
      "313/313 [==============================] - 2s 6ms/step - loss: 1.9874 - accuracy: 0.3883 - val_loss: 2.2536 - val_accuracy: 0.2586\n",
      "Epoch 12/20\n",
      "313/313 [==============================] - 2s 6ms/step - loss: 1.9963 - accuracy: 0.3810 - val_loss: 2.3191 - val_accuracy: 0.2178\n",
      "Epoch 13/20\n",
      "313/313 [==============================] - 2s 8ms/step - loss: 1.9931 - accuracy: 0.3839 - val_loss: 2.2153 - val_accuracy: 0.2853\n",
      "Epoch 14/20\n",
      "313/313 [==============================] - 2s 8ms/step - loss: 1.9852 - accuracy: 0.3867 - val_loss: 2.2466 - val_accuracy: 0.2779\n",
      "Epoch 15/20\n",
      "313/313 [==============================] - 2s 8ms/step - loss: 1.9858 - accuracy: 0.3891 - val_loss: 2.4347 - val_accuracy: 0.2134\n",
      "Epoch 16/20\n",
      "313/313 [==============================] - 2s 8ms/step - loss: 1.9889 - accuracy: 0.3880 - val_loss: 2.2861 - val_accuracy: 0.2547\n",
      "Epoch 17/20\n",
      "313/313 [==============================] - 2s 8ms/step - loss: 1.9911 - accuracy: 0.3875 - val_loss: 2.3763 - val_accuracy: 0.2527\n",
      "Epoch 18/20\n",
      "313/313 [==============================] - 2s 8ms/step - loss: 1.9839 - accuracy: 0.3856 - val_loss: 2.4268 - val_accuracy: 0.2071\n",
      "Epoch 19/20\n",
      "313/313 [==============================] - 2s 7ms/step - loss: 1.9873 - accuracy: 0.3866 - val_loss: 2.2949 - val_accuracy: 0.2585\n",
      "Epoch 20/20\n",
      "313/313 [==============================] - 2s 7ms/step - loss: 1.9820 - accuracy: 0.3895 - val_loss: 2.2016 - val_accuracy: 0.2990\n"
     ]
    }
   ],
   "source": [
    "check_point_cb = callbacks.ModelCheckpoint('keras_cifar10_model.h5', save_best_only=True)\n",
    "\n",
    "early_stopping_cb = callbacks.EarlyStopping(patience=5, monitor='val_loss',\n",
    "                                  restore_best_weights=True)\n",
    "\n",
    "history = model.fit(x_train, y_train,\n",
    "                    epochs=20,\n",
    "                    batch_size=128,\n",
    "                    validation_data=(x_val, y_val))"
   ]
  },
  {
   "cell_type": "code",
   "execution_count": 124,
   "id": "d09333d5",
   "metadata": {},
   "outputs": [
    {
     "data": {
      "image/png": "[encoded data removed]",
      "text/plain": [
       "<Figure size 1200x500 with 2 Axes>"
      ]
     },
     "metadata": {},
     "output_type": "display_data"
    }
   ],
   "source": [
    "# 시각화\n",
    "\n",
    "plt.style.use('seaborn-white')\n",
    "\n",
    "history_dict = history.history\n",
    "\n",
    "loss = history_dict['loss']\n",
    "val_loss = history_dict['val_loss']\n",
    "\n",
    "epochs = range(1, len(loss) + 1)\n",
    "fig = plt.figure(figsize=(12, 5))\n",
    "\n",
    "ax1 = fig.add_subplot(1, 2, 1)\n",
    "ax1.plot(epochs, loss, 'b-', label='train_loss')\n",
    "ax1.plot(epochs, val_loss, 'r-', label='val_loss')\n",
    "ax1.set_title('Train and Validation Loss')\n",
    "ax1.set_xlabel('Epochs')\n",
    "ax1.set_ylabel('Loss')\n",
    "ax1.grid()\n",
    "ax1.legend()\n",
    "\n",
    "accuracy = history_dict['accuracy']\n",
    "val_accuracy = history_dict['val_accuracy']\n",
    "\n",
    "ax2 = fig.add_subplot(1, 2, 2)\n",
    "ax2.plot(epochs, accuracy, 'b-', label='train_accuracy')\n",
    "ax2.plot(epochs, val_accuracy, 'r-', label='val_accuracy')\n",
    "ax2.set_title('Train and Validation Accuracy')\n",
    "ax2.set_xlabel('Epochs')\n",
    "ax2.set_ylabel('Accuracy')\n",
    "ax2.grid()\n",
    "ax2.legend()\n",
    "\n",
    "plt.show()"
   ]
  },
  {
   "cell_type": "markdown",
   "id": "5fe2661a",
   "metadata": {},
   "source": [
    "모델 평가 및 예측"
   ]
  },
  {
   "cell_type": "code",
   "execution_count": 125,
   "id": "8dfff76f",
   "metadata": {},
   "outputs": [
    {
     "name": "stdout",
     "output_type": "stream",
     "text": [
      "313/313 [==============================] - 0s 1ms/step - loss: 2.1981 - accuracy: 0.3032\n"
     ]
    },
    {
     "data": {
      "text/plain": [
       "[2.198136329650879, 0.30320000648498535]"
      ]
     },
     "execution_count": 125,
     "metadata": {},
     "output_type": "execute_result"
    }
   ],
   "source": [
    "model.evaluate(x_test, y_test)"
   ]
  },
  {
   "cell_type": "code",
   "execution_count": 126,
   "id": "7f830d93",
   "metadata": {},
   "outputs": [
    {
     "name": "stdout",
     "output_type": "stream",
     "text": [
      "313/313 [==============================] - 0s 1ms/step\n",
      "              precision    recall  f1-score   support\n",
      "\n",
      "           0       1.00      0.11      0.20     10000\n",
      "           1       0.00      0.00      0.00         0\n",
      "           2       0.00      0.00      0.00         0\n",
      "           3       0.00      0.00      0.00         0\n",
      "           4       0.00      0.00      0.00         0\n",
      "           5       0.00      0.00      0.00         0\n",
      "           6       0.00      0.00      0.00         0\n",
      "           7       0.00      0.00      0.00         0\n",
      "           8       0.00      0.00      0.00         0\n",
      "           9       0.00      0.00      0.00         0\n",
      "\n",
      "    accuracy                           0.11     10000\n",
      "   macro avg       0.10      0.01      0.02     10000\n",
      "weighted avg       1.00      0.11      0.20     10000\n",
      "\n"
     ]
    },
    {
     "name": "stderr",
     "output_type": "stream",
     "text": [
      "c:\\Users\\user\\AppData\\Local\\Programs\\Python\\Python310\\lib\\site-packages\\sklearn\\metrics\\_classification.py:1318: UndefinedMetricWarning: Recall and F-score are ill-defined and being set to 0.0 in labels with no true samples. Use `zero_division` parameter to control this behavior.\n",
      "  _warn_prf(average, modifier, msg_start, len(result))\n",
      "c:\\Users\\user\\AppData\\Local\\Programs\\Python\\Python310\\lib\\site-packages\\sklearn\\metrics\\_classification.py:1318: UndefinedMetricWarning: Recall and F-score are ill-defined and being set to 0.0 in labels with no true samples. Use `zero_division` parameter to control this behavior.\n",
      "  _warn_prf(average, modifier, msg_start, len(result))\n",
      "c:\\Users\\user\\AppData\\Local\\Programs\\Python\\Python310\\lib\\site-packages\\sklearn\\metrics\\_classification.py:1318: UndefinedMetricWarning: Recall and F-score are ill-defined and being set to 0.0 in labels with no true samples. Use `zero_division` parameter to control this behavior.\n",
      "  _warn_prf(average, modifier, msg_start, len(result))\n"
     ]
    }
   ],
   "source": [
    "y_pred = model.predict(x_test)\n",
    "\n",
    "from sklearn.metrics import classification_report\n",
    "\n",
    "print(\n",
    "    classification_report(\n",
    "    np.argmax(y_test, axis=-1),\n",
    "    np.argmax(y_pred, axis=-1)      \n",
    ")\n",
    ")"
   ]
  }
 ],
 "metadata": {
  "kernelspec": {
   "display_name": "Python 3",
   "language": "python",
   "name": "python3"
  },
  "language_info": {
   "codemirror_mode": {
    "name": "ipython",
    "version": 3
   },
   "file_extension": ".py",
   "mimetype": "text/x-python",
   "name": "python",
   "nbconvert_exporter": "python",
   "pygments_lexer": "ipython3",
   "version": "3.10.11"
  }
 },
 "nbformat": 4,
 "nbformat_minor": 5
}
