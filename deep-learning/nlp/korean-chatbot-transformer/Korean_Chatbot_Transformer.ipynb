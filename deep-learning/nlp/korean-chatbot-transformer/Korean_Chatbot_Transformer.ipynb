{
 "cells": [
  {
   "cell_type": "markdown",
   "id": "4a1f1324",
   "metadata": {},
   "source": [
    "# [PROJECT] 한국어 데이터로 챗봇 만들기"
   ]
  },
  {
   "cell_type": "markdown",
   "id": "5748cd99",
   "metadata": {},
   "source": [
    "## Step 1. 데이터 수집하기"
   ]
  },
  {
   "cell_type": "code",
   "execution_count": 1,
   "id": "6dc4aae1",
   "metadata": {},
   "outputs": [],
   "source": [
    "import tensorflow as tf\n",
    "import pandas as pd\n",
    "import numpy as np\n",
    "import os\n",
    "import re\n",
    "import matplotlib.pyplot as plt"
   ]
  },
  {
   "cell_type": "code",
   "execution_count": 2,
   "id": "93df1bd4",
   "metadata": {},
   "outputs": [
    {
     "data": {
      "text/html": [
       "<div>\n",
       "<style scoped>\n",
       "    .dataframe tbody tr th:only-of-type {\n",
       "        vertical-align: middle;\n",
       "    }\n",
       "\n",
       "    .dataframe tbody tr th {\n",
       "        vertical-align: top;\n",
       "    }\n",
       "\n",
       "    .dataframe thead th {\n",
       "        text-align: right;\n",
       "    }\n",
       "</style>\n",
       "<table border=\"1\" class=\"dataframe\">\n",
       "  <thead>\n",
       "    <tr style=\"text-align: right;\">\n",
       "      <th></th>\n",
       "      <th>Q</th>\n",
       "      <th>A</th>\n",
       "      <th>label</th>\n",
       "    </tr>\n",
       "  </thead>\n",
       "  <tbody>\n",
       "    <tr>\n",
       "      <th>0</th>\n",
       "      <td>12시 땡!</td>\n",
       "      <td>하루가 또 가네요.</td>\n",
       "      <td>0</td>\n",
       "    </tr>\n",
       "    <tr>\n",
       "      <th>1</th>\n",
       "      <td>1지망 학교 떨어졌어</td>\n",
       "      <td>위로해 드립니다.</td>\n",
       "      <td>0</td>\n",
       "    </tr>\n",
       "    <tr>\n",
       "      <th>2</th>\n",
       "      <td>3박4일 놀러가고 싶다</td>\n",
       "      <td>여행은 언제나 좋죠.</td>\n",
       "      <td>0</td>\n",
       "    </tr>\n",
       "    <tr>\n",
       "      <th>3</th>\n",
       "      <td>3박4일 정도 놀러가고 싶다</td>\n",
       "      <td>여행은 언제나 좋죠.</td>\n",
       "      <td>0</td>\n",
       "    </tr>\n",
       "    <tr>\n",
       "      <th>4</th>\n",
       "      <td>PPL 심하네</td>\n",
       "      <td>눈살이 찌푸려지죠.</td>\n",
       "      <td>0</td>\n",
       "    </tr>\n",
       "    <tr>\n",
       "      <th>...</th>\n",
       "      <td>...</td>\n",
       "      <td>...</td>\n",
       "      <td>...</td>\n",
       "    </tr>\n",
       "    <tr>\n",
       "      <th>11818</th>\n",
       "      <td>훔쳐보는 것도 눈치 보임.</td>\n",
       "      <td>티가 나니까 눈치가 보이는 거죠!</td>\n",
       "      <td>2</td>\n",
       "    </tr>\n",
       "    <tr>\n",
       "      <th>11819</th>\n",
       "      <td>훔쳐보는 것도 눈치 보임.</td>\n",
       "      <td>훔쳐보는 거 티나나봐요.</td>\n",
       "      <td>2</td>\n",
       "    </tr>\n",
       "    <tr>\n",
       "      <th>11820</th>\n",
       "      <td>흑기사 해주는 짝남.</td>\n",
       "      <td>설렜겠어요.</td>\n",
       "      <td>2</td>\n",
       "    </tr>\n",
       "    <tr>\n",
       "      <th>11821</th>\n",
       "      <td>힘든 연애 좋은 연애라는게 무슨 차이일까?</td>\n",
       "      <td>잘 헤어질 수 있는 사이 여부인 거 같아요.</td>\n",
       "      <td>2</td>\n",
       "    </tr>\n",
       "    <tr>\n",
       "      <th>11822</th>\n",
       "      <td>힘들어서 결혼할까봐</td>\n",
       "      <td>도피성 결혼은 하지 않길 바라요.</td>\n",
       "      <td>2</td>\n",
       "    </tr>\n",
       "  </tbody>\n",
       "</table>\n",
       "<p>11823 rows × 3 columns</p>\n",
       "</div>"
      ],
      "text/plain": [
       "                             Q                         A  label\n",
       "0                       12시 땡!                하루가 또 가네요.      0\n",
       "1                  1지망 학교 떨어졌어                 위로해 드립니다.      0\n",
       "2                 3박4일 놀러가고 싶다               여행은 언제나 좋죠.      0\n",
       "3              3박4일 정도 놀러가고 싶다               여행은 언제나 좋죠.      0\n",
       "4                      PPL 심하네                눈살이 찌푸려지죠.      0\n",
       "...                        ...                       ...    ...\n",
       "11818           훔쳐보는 것도 눈치 보임.        티가 나니까 눈치가 보이는 거죠!      2\n",
       "11819           훔쳐보는 것도 눈치 보임.             훔쳐보는 거 티나나봐요.      2\n",
       "11820              흑기사 해주는 짝남.                    설렜겠어요.      2\n",
       "11821  힘든 연애 좋은 연애라는게 무슨 차이일까?  잘 헤어질 수 있는 사이 여부인 거 같아요.      2\n",
       "11822               힘들어서 결혼할까봐        도피성 결혼은 하지 않길 바라요.      2\n",
       "\n",
       "[11823 rows x 3 columns]"
      ]
     },
     "execution_count": 2,
     "metadata": {},
     "output_type": "execute_result"
    }
   ],
   "source": [
    "# [데이터 출처](https://github.com/songys/Chatbot_data/blob/master/ChatbotData.csv)\n",
    "\n",
    "df = pd.read_csv(\"ChatbotData .csv\")\n",
    "df"
   ]
  },
  {
   "cell_type": "markdown",
   "id": "ccdc1ed4",
   "metadata": {},
   "source": [
    "## Step 2. 데이터 전처리하기"
   ]
  },
  {
   "cell_type": "code",
   "execution_count": 3,
   "id": "8455ac07",
   "metadata": {},
   "outputs": [],
   "source": [
    "def preprocessing_sentence(sentence):\n",
    "    # 양쪽 공백 제거\n",
    "    sentence = sentence.strip()\n",
    "        \n",
    "    # 중복 공백 제거\n",
    "    sentence = re.sub(r\"([?.!,])\", r\" \\1 \", sentence)\n",
    "\n",
    "    # 한글, 숫자, 기타 부호 제외 문자 공백으로 대체\n",
    "    sentence = re.sub(r\"[^ㄱ-ㅎㅏ-ㅣ가-힣0-9?.!,~… ]+\", \" \", sentence)\n",
    "\n",
    "    # 중복 공백 다시 제거\n",
    "    sentence = re.sub(r'\\s+', ' ', sentence).strip()\n",
    "\n",
    "    return sentence"
   ]
  },
  {
   "cell_type": "code",
   "execution_count": 4,
   "id": "5b3cad63",
   "metadata": {},
   "outputs": [
    {
     "name": "stdout",
     "output_type": "stream",
     "text": [
      "전체 샘플 수 : 11823\n",
      "전체 샘플 수 : 11823\n"
     ]
    }
   ],
   "source": [
    "# 질문과 답변의 쌍인 데이터셋을 구성하기 위한 데이터 로드 함수\n",
    "\n",
    "questions = [preprocessing_sentence(q) for q in df['Q']]\n",
    "answers = [preprocessing_sentence(a) for a in df['A']]\n",
    "\n",
    "print('전체 샘플 수 :', len(questions))\n",
    "print('전체 샘플 수 :', len(answers))"
   ]
  },
  {
   "cell_type": "code",
   "execution_count": 5,
   "id": "25eeb0ee",
   "metadata": {},
   "outputs": [
    {
     "name": "stdout",
     "output_type": "stream",
     "text": [
      "전처리 후의 22번째 질문 샘플: 가스비 장난 아님\n",
      "전처리 후의 22번째 답변 샘플: 다음 달에는 더 절약해봐요 .\n"
     ]
    }
   ],
   "source": [
    "print('전처리 후의 22번째 질문 샘플: {}'.format(questions[21]))\n",
    "print('전처리 후의 22번째 답변 샘플: {}'.format(answers[21]))"
   ]
  },
  {
   "cell_type": "markdown",
   "id": "7a01d7e2",
   "metadata": {},
   "source": [
    "## Step 3. 단어장 만들기 \n",
    "\n",
    "SubwordTextEncoder 사용: 문장을 자주 등장하는 단어(subword) 단위로 쪼개어 자체 단어를 학습하는 방식"
   ]
  },
  {
   "cell_type": "markdown",
   "id": "bdd71b71",
   "metadata": {},
   "source": [
    "### SubwordTextEncoder"
   ]
  },
  {
   "cell_type": "code",
   "execution_count": 6,
   "id": "fbc554f2",
   "metadata": {},
   "outputs": [
    {
     "name": "stderr",
     "output_type": "stream",
     "text": [
      "c:\\Users\\user\\Desktop\\MODULABS\\NLP\\DAY_6_Project\\.venv\\lib\\site-packages\\tqdm\\auto.py:21: TqdmWarning: IProgress not found. Please update jupyter and ipywidgets. See https://ipywidgets.readthedocs.io/en/stable/user_install.html\n",
      "  from .autonotebook import tqdm as notebook_tqdm\n"
     ]
    },
    {
     "name": "stdout",
     "output_type": "stream",
     "text": [
      "SOS_ID: 8168\n",
      "EOS_ID: 8169\n",
      "PAD_ID: 0\n",
      "VOCAB_SIZE: 8170\n"
     ]
    }
   ],
   "source": [
    "import tensorflow_datasets as tfds\n",
    "\n",
    "# Q&A 데이터 대해 단어장 생성\n",
    "tokenizer = tfds.deprecated.text.SubwordTextEncoder.build_from_corpus(questions + answers, target_vocab_size = 2**13)\n",
    "\n",
    "# 토큰에 고유한 정수 부여\n",
    "BASE_VOCAB = tokenizer.vocab_size\n",
    "PAD_ID = 0\n",
    "SOS_ID = BASE_VOCAB + 1\n",
    "EOS_ID = BASE_VOCAB + 2\n",
    "VOCAB_SIZE = BASE_VOCAB + 3\n",
    "\n",
    "print('SOS_ID:',BASE_VOCAB + 1)\n",
    "print('EOS_ID:',BASE_VOCAB + 2)\n",
    "print('PAD_ID:', 0)\n",
    "print('VOCAB_SIZE:',VOCAB_SIZE)"
   ]
  },
  {
   "cell_type": "markdown",
   "id": "2ebebaa7",
   "metadata": {},
   "source": [
    "### Encoding & Padding"
   ]
  },
  {
   "cell_type": "code",
   "execution_count": 7,
   "id": "5074e602",
   "metadata": {},
   "outputs": [],
   "source": [
    "# PAD_ID 0 설정으로 인해 전부 1 Shift\n",
    "def encode_ids(text: str):\n",
    "    return [SOS_ID] + [num + 1 for num in tokenizer.encode(text)] + [EOS_ID]"
   ]
  },
  {
   "cell_type": "code",
   "execution_count": 8,
   "id": "603831da",
   "metadata": {},
   "outputs": [],
   "source": [
    "q_lens = [len(encode_ids(q)) for q in questions]\n",
    "a_lens = [len(encode_ids(a)) for a in answers]"
   ]
  },
  {
   "cell_type": "code",
   "execution_count": 9,
   "id": "282ee04b",
   "metadata": {},
   "outputs": [
    {
     "name": "stdout",
     "output_type": "stream",
     "text": [
      "[Q] n=11823 mean=7.5 median=7 p90=11 p95=12 p99=15 max=23\n",
      "[A] n=11823 mean=7.8 median=7 p90=11 p95=13 p99=16 max=31\n",
      "MAX_LEN_Q = 12  MAX_LEN_A = 13\n",
      "trunc(Q)= 0.041867546308043645  trunc(A)= 0.03400152245622938\n"
     ]
    }
   ],
   "source": [
    "def stats(name, arr):\n",
    "    arr = np.array(arr)\n",
    "    print(f\"[{name}] n={len(arr)} mean={arr.mean():.1f} \"\n",
    "          f\"median={np.median(arr):.0f} p90={np.percentile(arr,90):.0f} \"\n",
    "          f\"p95={np.percentile(arr,95):.0f} p99={np.percentile(arr,99):.0f} max={arr.max()}\")\n",
    "\n",
    "stats(\"Q\", q_lens)\n",
    "stats(\"A\", a_lens)\n",
    "\n",
    "MAX_LEN_Q = int(np.percentile(q_lens, 95))  \n",
    "MAX_LEN_A = int(np.percentile(a_lens, 95))\n",
    "print(\"MAX_LEN_Q =\", MAX_LEN_Q, \" MAX_LEN_A =\", MAX_LEN_A)\n",
    "\n",
    "# 잘림 비율\n",
    "def trunc_rate(arr, maxlen):\n",
    "    arr = np.array(arr); return float((arr > maxlen).mean())\n",
    "print(\"trunc(Q)=\", trunc_rate(q_lens, MAX_LEN_Q), \" trunc(A)=\", trunc_rate(a_lens, MAX_LEN_A))"
   ]
  },
  {
   "cell_type": "code",
   "execution_count": 10,
   "id": "3b14d7d1",
   "metadata": {},
   "outputs": [],
   "source": [
    "# 정수 인코딩, 최대 길이 초과 샘플 제거, 패딩\n",
    "def tokenize_and_filter(inputs, outputs):\n",
    "    tokenized_inputs, tokenized_outputs = [], []\n",
    "\n",
    "    for (sentence1, sentence2) in zip(inputs, outputs):\n",
    "        sentence1 = encode_ids(sentence1)\n",
    "        sentence2 = encode_ids(sentence2)\n",
    "\n",
    "        if len(sentence1) <= MAX_LEN_Q and len(sentence2) <= MAX_LEN_A:\n",
    "            tokenized_inputs.append(sentence1)\n",
    "            tokenized_outputs.append(sentence2)\n",
    "    \n",
    "    tokenized_inputs = tf.keras.preprocessing.sequence.pad_sequences(tokenized_inputs, maxlen=MAX_LEN_Q, padding='post', value = PAD_ID)\n",
    "    tokenized_outputs = tf.keras.preprocessing.sequence.pad_sequences(tokenized_outputs, maxlen=MAX_LEN_A, padding='post', value = PAD_ID)\n",
    "\n",
    "    return tokenized_inputs, tokenized_outputs"
   ]
  },
  {
   "cell_type": "code",
   "execution_count": 11,
   "id": "6d5749e6",
   "metadata": {},
   "outputs": [
    {
     "name": "stdout",
     "output_type": "stream",
     "text": [
      "단어장의 크기 : 8170\n",
      "필터링 후의 질문 샘플 개수: 10946\n",
      "필터링 후의 답변 샘플 개수: 10946\n"
     ]
    }
   ],
   "source": [
    "questions, answers = tokenize_and_filter(questions, answers)\n",
    "print('단어장의 크기 :',(VOCAB_SIZE))\n",
    "print('필터링 후의 질문 샘플 개수: {}'.format(len(questions)))\n",
    "print('필터링 후의 답변 샘플 개수: {}'.format(len(answers)))"
   ]
  },
  {
   "cell_type": "markdown",
   "id": "a16ae912",
   "metadata": {},
   "source": [
    "## Step 4. 모델 구성하기"
   ]
  },
  {
   "cell_type": "markdown",
   "id": "e6adb5a8",
   "metadata": {},
   "source": [
    "### Teacher Forcing"
   ]
  },
  {
   "cell_type": "code",
   "execution_count": 12,
   "id": "623d4fe7",
   "metadata": {},
   "outputs": [],
   "source": [
    "BATCH_SIZE = 128\n",
    "BUFFER_SIZE = 10946\n",
    "\n",
    "dataset = tf.data.Dataset.from_tensor_slices((\n",
    "    {\n",
    "        'inputs': questions,\n",
    "        'dec_inputs': answers[:, :-1]   # EOS 제거\n",
    "    },\n",
    "    {\n",
    "        'outputs': answers[:, 1:]       # SOS 제거\n",
    "    },\n",
    "))\n",
    "\n",
    "dataset = dataset.cache()\n",
    "dataset = dataset.shuffle(BUFFER_SIZE)\n",
    "dataset = dataset.batch(BATCH_SIZE)\n",
    "dataset = dataset.prefetch(tf.data.experimental.AUTOTUNE)"
   ]
  },
  {
   "cell_type": "markdown",
   "id": "b7a983ca",
   "metadata": {},
   "source": [
    "### 모델 정의 및 학습"
   ]
  },
  {
   "cell_type": "markdown",
   "id": "a483126c",
   "metadata": {},
   "source": [
    "#### Prior Definitions"
   ]
  },
  {
   "cell_type": "code",
   "execution_count": 13,
   "id": "3a19dcf2",
   "metadata": {},
   "outputs": [],
   "source": [
    "# positional matrix\n",
    "\n",
    "class PositionalEncoding(tf.keras.layers.Layer):\n",
    "\n",
    "    def __init__(self, position, d_model):\n",
    "        super(PositionalEncoding, self).__init__()\n",
    "        self.pos_encoding = self.positional_encoding(position, d_model)\n",
    "\n",
    "    # Attention 논문 제시 수식\n",
    "    # 각도 계산 공식으로, 각 위치와 임베딩 차원마다 서로 다른 주기의 사인/코사인 파형을 생성\n",
    "    def get_angles(self, position, i, d_model):         \n",
    "        angles = 1 / tf.pow(10000, (2 * (i // 2)) / tf.cast(d_model, tf.float32))\n",
    "        return position * angles\n",
    "    \n",
    "    def positional_encoding(self, position, d_model):\n",
    "        angle_rads = self.get_angles(\n",
    "            position = tf.range(\n",
    "                position, \n",
    "                dtype = tf.float32)[:, tf.newaxis],\n",
    "                i = tf.range(d_model, dtype = tf.float32)[tf.newaxis, :],\n",
    "                d_model = d_model\n",
    "                )\n",
    "\n",
    "        sines = tf.math.sin(angle_rads[:, 0::2])        # 짝수 index\n",
    "        cosines = tf.math.cos(angle_rads[:, 1::2])      # 홀수 index\n",
    "    \n",
    "        pos_encoding = tf.stack([sines, cosines], axis = 0)\n",
    "        pos_encoding = tf.transpose(pos_encoding, [1, 2, 0])\n",
    "        pos_encoding = tf.reshape(pos_encoding, [position, d_model])\n",
    "    \n",
    "        pos_encoding = pos_encoding[tf.newaxis, ...]\n",
    "        return tf.cast(pos_encoding, tf.float32)\n",
    "\n",
    "    def call(self, inputs):\n",
    "        return inputs + self.pos_encoding[:, :tf.shape(inputs)[1], :]"
   ]
  },
  {
   "cell_type": "code",
   "execution_count": 14,
   "id": "dec6e3b0",
   "metadata": {},
   "outputs": [],
   "source": [
    "# Scaled Dot-Product Attention\n",
    "\n",
    "def scaled_dot_attention(query, key, value, mask):\n",
    "    \n",
    "    # Query, Key의 내적 구함 >> 유사도 행렬 생성\n",
    "    # matmul: 행렬 곱\n",
    "    matmul_qk = tf.matmul(query, key, transpose_b = True)\n",
    "\n",
    "    # scaling\n",
    "    depth = tf.cast(tf.shape(key)[-1], tf.float32)  \n",
    "    logits = matmul_qk / tf.math.sqrt(depth)\n",
    "\n",
    "    # padding 및 미래 시점 단어 가리기 위해 mask 적용\n",
    "    if mask is not None:\n",
    "        logits += (mask * -1e9)\n",
    "\n",
    "    # softmax\n",
    "    attention_weights = tf.nn.softmax(logits, axis = -1)\n",
    "\n",
    "    # 최가중치와 Value(V) 결합\n",
    "    output = tf.matmul(attention_weights, value)\n",
    "\n",
    "    return output\n"
   ]
  },
  {
   "cell_type": "code",
   "execution_count": 15,
   "id": "1846e146",
   "metadata": {},
   "outputs": [],
   "source": [
    "# multi head attention\n",
    "# attention을 병렬적으로 활용하여 다양한 패턴 분석\n",
    "\n",
    "class MultiHeadAttention(tf.keras.layers.Layer):\n",
    "\n",
    "    def __init__(self, d_model, num_heads, name = 'multi_head_attention'):\n",
    "        super(MultiHeadAttention, self).__init__(name = name)\n",
    "        self.num_heads = num_heads\n",
    "        self.d_model = d_model\n",
    "\n",
    "        assert d_model % self.num_heads == 0\n",
    "\n",
    "        self.depth = d_model // self.num_heads\n",
    "\n",
    "        self.query_dense = tf.keras.layers.Dense(units = d_model)\n",
    "        self.key_dense = tf.keras.layers.Dense(units = d_model)\n",
    "        self.value_dense = tf.keras.layers.Dense(units = d_model)\n",
    "\n",
    "        self.dense = tf.keras.layers.Dense(units = d_model)\n",
    "    \n",
    "    def split_heads(self, inputs, batch_size):\n",
    "        # (B, L, d_model) -> (B, num_heads, L, depth)\n",
    "        # d_model 차원을 num_heads 개로 나눔\n",
    "        inputs = tf.reshape(\n",
    "            inputs, \n",
    "            shape = (batch_size, -1, self.num_heads, self.depth)\n",
    "            )\n",
    "        return tf.transpose(inputs, perm=[0, 2, 1, 3])\n",
    "    \n",
    "    def call(self, inputs):\n",
    "        query, key, value, mask = inputs['query'], inputs['key'], inputs['value'], inputs['mask']\n",
    "        batch_size = tf.shape(query)[0]\n",
    "\n",
    "        # Q, K, V 각각 Dense 적용\n",
    "        query = self.query_dense(query)\n",
    "        key = self.key_dense(key)\n",
    "        value = self.value_dense(value)\n",
    "\n",
    "        # 병렬 연산 위해 헤드 분할\n",
    "        query = self.split_heads(query, batch_size)\n",
    "        key = self.split_heads(key, batch_size)\n",
    "        value = self.split_heads(value, batch_size)\n",
    "\n",
    "        # Scaled Dot-Product Attention\n",
    "        scaled_attention = scaled_dot_attention(query, key, value, mask)\n",
    "\n",
    "        # (B, num_heads, L, depth) -> (B, L, num_heads, depth)\n",
    "        scaled_attention = tf.transpose(scaled_attention, perm = [0, 2, 1, 3])\n",
    "\n",
    "        # 모든 헤드 결합: (B, L, num_heads*depth) = (B, L, d_model)\n",
    "        concat_attention = tf.reshape(scaled_attention, (batch_size, -1, self.d_model))\n",
    "\n",
    "        # 최종 선형 변환\n",
    "        outputs = self.dense(concat_attention)\n",
    "        return outputs"
   ]
  },
  {
   "cell_type": "code",
   "execution_count": 16,
   "id": "ed8e696f",
   "metadata": {},
   "outputs": [],
   "source": [
    "# padding masking\n",
    "\n",
    "def create_padding_mask(x):\n",
    "    mask = tf.cast(tf.math.equal(x, 0), tf.float32)\n",
    "\n",
    "    # (batch_size, 1, 1, seqence length)\n",
    "    return mask[:, tf.newaxis, tf.newaxis, :]"
   ]
  },
  {
   "cell_type": "code",
   "execution_count": 17,
   "id": "cb88b6a6",
   "metadata": {},
   "outputs": [],
   "source": [
    "# Look-ahead masking\n",
    "\n",
    "def create_look_ahead_mask(x):\n",
    "    seq_len = tf.shape(x)[1]\n",
    "    look_ahead_mask = 1 - tf.linalg.band_part(tf.ones((seq_len, seq_len)), -1, 0)\n",
    "    padding_mask = create_padding_mask(x)\n",
    "    return tf.maximum(look_ahead_mask, padding_mask)"
   ]
  },
  {
   "cell_type": "code",
   "execution_count": 18,
   "id": "8e224caa",
   "metadata": {},
   "outputs": [],
   "source": [
    "# Encoder\n",
    "# Two layers\n",
    "\n",
    "def encoder_layer(units, d_model, num_heads, dropout, name=\"encoder_layer\"):\n",
    "    inputs = tf.keras.Input(shape=(None, d_model), name=\"inputs\")\n",
    "\n",
    "    # padding mask\n",
    "    padding_mask = tf.keras.Input(shape=(1, 1, None), name=\"padding_mask\")\n",
    "\n",
    "    # first layer: self-attention(multi head)\n",
    "    attention = MultiHeadAttention(d_model, num_heads, name=\"attention\")({\n",
    "          'query': inputs,\n",
    "          'key': inputs,\n",
    "          'value': inputs,\n",
    "          'mask': padding_mask\n",
    "      })\n",
    "\n",
    "    attention = tf.keras.layers.Dropout(rate=dropout)(attention)\n",
    "    attention = tf.keras.layers.LayerNormalization(\n",
    "        epsilon=1e-6)(inputs + attention)\n",
    "\n",
    "    # second layer\n",
    "    outputs = tf.keras.layers.Dense(units=units, activation='relu')(attention)\n",
    "    outputs = tf.keras.layers.Dense(units=d_model)(outputs)\n",
    "\n",
    "    outputs = tf.keras.layers.Dropout(rate=dropout)(outputs)\n",
    "    outputs = tf.keras.layers.LayerNormalization(\n",
    "        epsilon=1e-6)(attention + outputs)\n",
    "\n",
    "    return tf.keras.Model(\n",
    "        inputs=[inputs, padding_mask], outputs=outputs, name=name\n",
    "        )"
   ]
  },
  {
   "cell_type": "code",
   "execution_count": 19,
   "id": "96f7eea1",
   "metadata": {},
   "outputs": [],
   "source": [
    "# Encoder\n",
    "\n",
    "def encoder(vocab_size,\n",
    "            num_layers,\n",
    "            units,\n",
    "            d_model,\n",
    "            num_heads,\n",
    "            dropout,\n",
    "            name=\"encoder\"):\n",
    "    inputs = tf.keras.Input(shape=(None,), name=\"inputs\")\n",
    "\n",
    "    # padding mask\n",
    "    padding_mask = tf.keras.Input(shape=(1, 1, None), name=\"padding_mask\")\n",
    "\n",
    "    # embedding layer\n",
    "    embeddings = tf.keras.layers.Embedding(vocab_size, d_model)(inputs)\n",
    "    embeddings *= tf.math.sqrt(tf.cast(d_model, tf.float32))\n",
    "\n",
    "    # positional encoding\n",
    "    embeddings = PositionalEncoding(vocab_size, d_model)(embeddings)\n",
    "\n",
    "    outputs = tf.keras.layers.Dropout(rate=dropout)(embeddings)\n",
    "\n",
    "    # encoder layers followed by num_layers\n",
    "    for i in range(num_layers):\n",
    "        outputs = encoder_layer(\n",
    "            units=units,\n",
    "            d_model=d_model,\n",
    "            num_heads=num_heads,\n",
    "            dropout=dropout,\n",
    "            name=\"encoder_layer_{}\".format(i),\n",
    "        )([outputs, padding_mask])\n",
    "\n",
    "    return tf.keras.Model(\n",
    "        inputs=[inputs, padding_mask], outputs=outputs, name=name)"
   ]
  },
  {
   "cell_type": "code",
   "execution_count": 20,
   "id": "32755642",
   "metadata": {},
   "outputs": [],
   "source": [
    "# Decoder\n",
    "# Three layers\n",
    "\n",
    "def decoder_layer(units, d_model, num_heads, dropout, name=\"decoder_layer\"):\n",
    "    inputs = tf.keras.Input(shape=(None, d_model), name=\"inputs\")\n",
    "    enc_outputs = tf.keras.Input(shape=(None, d_model), name=\"encoder_outputs\")\n",
    "    \n",
    "    # look ahead mask\n",
    "    look_ahead_mask = tf.keras.Input(\n",
    "        shape=(1, None, None), name=\"look_ahead_mask\")\n",
    "    \n",
    "    # padding mask\n",
    "    padding_mask = tf.keras.Input(shape=(1, 1, None), name='padding_mask')\n",
    "\n",
    "    # first layer: self-attention(multi head)\n",
    "    attention1 = MultiHeadAttention(\n",
    "        d_model, num_heads, name=\"attention_1\")(inputs={\n",
    "            'query': inputs,\n",
    "            'key': inputs,\n",
    "            'value': inputs,\n",
    "            'mask': look_ahead_mask\n",
    "        })\n",
    "\n",
    "    attention1 = tf.keras.layers.LayerNormalization(\n",
    "        epsilon=1e-6)(attention1 + inputs)\n",
    "\n",
    "    # second layer: masked multi head attention\n",
    "    attention2 = MultiHeadAttention(\n",
    "        d_model, num_heads, name=\"attention_2\")(inputs={\n",
    "            'query': attention1,\n",
    "            'key': enc_outputs,\n",
    "            'value': enc_outputs,\n",
    "            'mask': padding_mask\n",
    "        })\n",
    "\n",
    "    attention2 = tf.keras.layers.Dropout(rate=dropout)(attention2)\n",
    "    attention2 = tf.keras.layers.LayerNormalization(\n",
    "        epsilon=1e-6)(attention2 + attention1)\n",
    "\n",
    "    # third layer\n",
    "    outputs = tf.keras.layers.Dense(units=units, activation='relu')(attention2)\n",
    "    outputs = tf.keras.layers.Dense(units=d_model)(outputs)\n",
    "\n",
    "    outputs = tf.keras.layers.Dropout(rate=dropout)(outputs)\n",
    "    outputs = tf.keras.layers.LayerNormalization(\n",
    "        epsilon=1e-6)(outputs + attention2)\n",
    "\n",
    "    return tf.keras.Model(\n",
    "        inputs=[inputs, enc_outputs, look_ahead_mask, padding_mask],\n",
    "        outputs=outputs,\n",
    "        name=name)"
   ]
  },
  {
   "cell_type": "code",
   "execution_count": 21,
   "id": "965da997",
   "metadata": {},
   "outputs": [],
   "source": [
    "# Decoder\n",
    "\n",
    "def decoder(vocab_size,\n",
    "            num_layers,\n",
    "            units,\n",
    "            d_model,\n",
    "            num_heads,\n",
    "            dropout,\n",
    "            name='decoder'):\n",
    "    inputs = tf.keras.Input(shape=(None,), name='inputs')\n",
    "    enc_outputs = tf.keras.Input(shape=(None, d_model), name='encoder_outputs')\n",
    "    look_ahead_mask = tf.keras.Input(\n",
    "        shape=(1, None, None), name='look_ahead_mask')\n",
    "\n",
    "    # padding mask\n",
    "    padding_mask = tf.keras.Input(shape=(1, 1, None), name='padding_mask')\n",
    "    \n",
    "    # embedding layer\n",
    "    embeddings = tf.keras.layers.Embedding(vocab_size, d_model)(inputs)\n",
    "    embeddings *= tf.math.sqrt(tf.cast(d_model, tf.float32))\n",
    "\n",
    "    # positional encoding\n",
    "    embeddings = PositionalEncoding(vocab_size, d_model)(embeddings)\n",
    "\n",
    "    # Dropout\n",
    "    outputs = tf.keras.layers.Dropout(rate=dropout)(embeddings)\n",
    "\n",
    "    for i in range(num_layers):\n",
    "        outputs = decoder_layer(\n",
    "            units=units,\n",
    "            d_model=d_model,\n",
    "            num_heads=num_heads,\n",
    "            dropout=dropout,\n",
    "            name='decoder_layer_{}'.format(i),\n",
    "        )(inputs=[outputs, enc_outputs, look_ahead_mask, padding_mask])\n",
    "\n",
    "    return tf.keras.Model(\n",
    "        inputs=[inputs, enc_outputs, look_ahead_mask, padding_mask],\n",
    "        outputs=outputs,\n",
    "        name=name)"
   ]
  },
  {
   "cell_type": "markdown",
   "id": "04454eec",
   "metadata": {},
   "source": [
    "#### Model define"
   ]
  },
  {
   "cell_type": "code",
   "execution_count": 22,
   "id": "7252e438",
   "metadata": {},
   "outputs": [],
   "source": [
    "# transformer\n",
    "\n",
    "def transformer(vocab_size,\n",
    "                num_layers,\n",
    "                units,\n",
    "                d_model,\n",
    "                num_heads,\n",
    "                dropout,\n",
    "                name=\"transformer\"):\n",
    "    inputs = tf.keras.Input(shape=(None,), name=\"inputs\")\n",
    "    dec_inputs = tf.keras.Input(shape=(None,), name=\"dec_inputs\")\n",
    "\n",
    "    # encoder padding mask\n",
    "    enc_padding_mask = tf.keras.layers.Lambda(\n",
    "        create_padding_mask, output_shape=(1, 1, None),\n",
    "        name='enc_padding_mask')(inputs)\n",
    "\n",
    "    # decoder look ahead mask\n",
    "    look_ahead_mask = tf.keras.layers.Lambda(\n",
    "        create_look_ahead_mask,\n",
    "        output_shape=(1, None, None),\n",
    "        name='look_ahead_mask')(dec_inputs)\n",
    "\n",
    "    # decoder padding mask\n",
    "    dec_padding_mask = tf.keras.layers.Lambda(\n",
    "        create_padding_mask, output_shape=(1, 1, None),\n",
    "        name='dec_padding_mask')(inputs)\n",
    "\n",
    "    # Encoder\n",
    "    enc_outputs = encoder(\n",
    "        vocab_size=vocab_size,\n",
    "        num_layers=num_layers,\n",
    "        units=units,\n",
    "        d_model=d_model,\n",
    "        num_heads=num_heads,\n",
    "        dropout=dropout,\n",
    "    )(inputs=[inputs, enc_padding_mask])\n",
    "\n",
    "    # Decoder\n",
    "    dec_outputs = decoder(\n",
    "        vocab_size=vocab_size,\n",
    "        num_layers=num_layers,\n",
    "        units=units,\n",
    "        d_model=d_model,\n",
    "        num_heads=num_heads,\n",
    "        dropout=dropout,\n",
    "    )(inputs=[dec_inputs, enc_outputs, look_ahead_mask, dec_padding_mask])\n",
    "\n",
    "    # 완전연결층\n",
    "    outputs = tf.keras.layers.Dense(units=vocab_size, name=\"outputs\")(dec_outputs)\n",
    "\n",
    "    return tf.keras.Model(inputs=[inputs, dec_inputs], outputs=outputs, name=name)"
   ]
  },
  {
   "cell_type": "code",
   "execution_count": 23,
   "id": "b196c7bc",
   "metadata": {},
   "outputs": [
    {
     "name": "stdout",
     "output_type": "stream",
     "text": [
      "Model: \"transformer\"\n",
      "__________________________________________________________________________________________________\n",
      " Layer (type)                   Output Shape         Param #     Connected to                     \n",
      "==================================================================================================\n",
      " inputs (InputLayer)            [(None, None)]       0           []                               \n",
      "                                                                                                  \n",
      " dec_inputs (InputLayer)        [(None, None)]       0           []                               \n",
      "                                                                                                  \n",
      " enc_padding_mask (Lambda)      (None, 1, 1, None)   0           ['inputs[0][0]']                 \n",
      "                                                                                                  \n",
      " encoder (Functional)           (None, None, 256)    3145728     ['inputs[0][0]',                 \n",
      "                                                                  'enc_padding_mask[0][0]']       \n",
      "                                                                                                  \n",
      " look_ahead_mask (Lambda)       (None, 1, None, Non  0           ['dec_inputs[0][0]']             \n",
      "                                e)                                                                \n",
      "                                                                                                  \n",
      " dec_padding_mask (Lambda)      (None, 1, 1, None)   0           ['inputs[0][0]']                 \n",
      "                                                                                                  \n",
      " decoder (Functional)           (None, None, 256)    3673088     ['dec_inputs[0][0]',             \n",
      "                                                                  'encoder[0][0]',                \n",
      "                                                                  'look_ahead_mask[0][0]',        \n",
      "                                                                  'dec_padding_mask[0][0]']       \n",
      "                                                                                                  \n",
      " outputs (Dense)                (None, None, 8170)   2099690     ['decoder[0][0]']                \n",
      "                                                                                                  \n",
      "==================================================================================================\n",
      "Total params: 8,918,506\n",
      "Trainable params: 8,918,506\n",
      "Non-trainable params: 0\n",
      "__________________________________________________________________________________________________\n"
     ]
    }
   ],
   "source": [
    "tf.keras.backend.clear_session()\n",
    "\n",
    "# Hyperparameters\n",
    "NUM_LAYERS = 2      # 인코더와 디코더의 층의 개수\n",
    "D_MODEL = 256       # 인코더와 디코더 내부의 입, 출력의 고정 차원\n",
    "NUM_HEADS = 8       # 멀티 헤드 어텐션에서의 헤드 수 \n",
    "UNITS = 512         # 피드 포워드 신경망의 은닉층의 크기\n",
    "DROPOUT = 0.1       # 드롭아웃의 비율\n",
    "\n",
    "model = transformer(\n",
    "    vocab_size=VOCAB_SIZE,\n",
    "    num_layers=NUM_LAYERS,\n",
    "    units=UNITS,\n",
    "    d_model=D_MODEL,\n",
    "    num_heads=NUM_HEADS,\n",
    "    dropout=DROPOUT)\n",
    "\n",
    "model.summary()"
   ]
  },
  {
   "cell_type": "markdown",
   "id": "783f47cb",
   "metadata": {},
   "source": [
    "#### Loss Function & Metrics(ACC)"
   ]
  },
  {
   "cell_type": "code",
   "execution_count": 24,
   "id": "468d7a18",
   "metadata": {},
   "outputs": [],
   "source": [
    "def loss_function(y_true, y_pred):\n",
    "    y_true = tf.cast(y_true, tf.int32)\n",
    "    loss = tf.keras.losses.SparseCategoricalCrossentropy(from_logits=True, reduction='none')(y_true, y_pred)\n",
    "    mask = tf.cast(tf.not_equal(y_true, 0), loss.dtype) \n",
    "    loss = tf.multiply(loss, mask)\n",
    "    return tf.reduce_mean(tf.reduce_sum(loss * mask, axis=1) / (tf.reduce_sum(mask, axis=1) + 1e-9)) \n",
    "\n",
    "def masked_accuracy(y_true, y_pred):\n",
    "    y_true = tf.cast(y_true, tf.int32)\n",
    "    y_hat = tf.argmax(y_pred, axis=-1, output_type=y_true.dtype) \n",
    "    mask = tf.cast(tf.not_equal(y_true, 0), tf.float32)\n",
    "    correct = tf.cast(tf.equal(y_true, y_hat), tf.float32) * mask\n",
    "    return tf.reduce_sum(correct) / (tf.reduce_sum(mask) + 1e-9)\n"
   ]
  },
  {
   "cell_type": "markdown",
   "id": "70feafda",
   "metadata": {},
   "source": [
    "#### Custom Learning rate Scheduling"
   ]
  },
  {
   "cell_type": "code",
   "execution_count": 25,
   "id": "0313c7bc",
   "metadata": {},
   "outputs": [],
   "source": [
    "class CustomSchedule(tf.keras.optimizers.schedules.LearningRateSchedule):\n",
    "\n",
    "    def __init__(self, d_model, warmup_steps=500):\n",
    "        super(CustomSchedule, self).__init__()\n",
    "\n",
    "        self.d_model = d_model\n",
    "        self.d_model = tf.cast(self.d_model, tf.float32)\n",
    "\n",
    "        self.warmup_steps = warmup_steps\n",
    "\n",
    "    def __call__(self, step):\n",
    "        arg1 = tf.math.rsqrt(step)\n",
    "        arg2 = step * (self.warmup_steps**-1.5)\n",
    "\n",
    "        return tf.math.rsqrt(self.d_model) * tf.math.minimum(arg1, arg2)"
   ]
  },
  {
   "cell_type": "markdown",
   "id": "deff7866",
   "metadata": {},
   "source": [
    "#### Model Compile & Training"
   ]
  },
  {
   "cell_type": "code",
   "execution_count": 26,
   "id": "a2a83a7b",
   "metadata": {},
   "outputs": [],
   "source": [
    "learning_rate = CustomSchedule(D_MODEL)\n",
    "\n",
    "optimizer = tf.keras.optimizers.Adam(\n",
    "    learning_rate, beta_1=0.9, beta_2=0.98, epsilon=1e-9)\n",
    "\n",
    "model.compile(\n",
    "    optimizer = optimizer, \n",
    "    loss = loss_function, \n",
    "    metrics = [masked_accuracy]\n",
    "    )"
   ]
  },
  {
   "cell_type": "code",
   "execution_count": 27,
   "id": "b679ff65",
   "metadata": {},
   "outputs": [
    {
     "name": "stdout",
     "output_type": "stream",
     "text": [
      "Epoch 1/20\n",
      "86/86 [==============================] - 6s 29ms/step - loss: 7.2837 - masked_accuracy: 0.2332\n",
      "Epoch 2/20\n",
      "86/86 [==============================] - 2s 29ms/step - loss: 5.2032 - masked_accuracy: 0.3128\n",
      "Epoch 3/20\n",
      "86/86 [==============================] - 2s 29ms/step - loss: 4.3603 - masked_accuracy: 0.3739\n",
      "Epoch 4/20\n",
      "86/86 [==============================] - 3s 29ms/step - loss: 3.4535 - masked_accuracy: 0.4636\n",
      "Epoch 5/20\n",
      "86/86 [==============================] - 2s 29ms/step - loss: 2.6630 - masked_accuracy: 0.5450\n",
      "Epoch 6/20\n",
      "86/86 [==============================] - 2s 29ms/step - loss: 2.0267 - masked_accuracy: 0.6138\n",
      "Epoch 7/20\n",
      "86/86 [==============================] - 2s 29ms/step - loss: 1.4573 - masked_accuracy: 0.6883\n",
      "Epoch 8/20\n",
      "86/86 [==============================] - 2s 29ms/step - loss: 0.9647 - masked_accuracy: 0.7740\n",
      "Epoch 9/20\n",
      "86/86 [==============================] - 2s 29ms/step - loss: 0.6563 - masked_accuracy: 0.8337\n",
      "Epoch 10/20\n",
      "86/86 [==============================] - 2s 29ms/step - loss: 0.4888 - masked_accuracy: 0.8714\n",
      "Epoch 11/20\n",
      "86/86 [==============================] - 2s 29ms/step - loss: 0.3699 - masked_accuracy: 0.8999\n",
      "Epoch 12/20\n",
      "86/86 [==============================] - 2s 29ms/step - loss: 0.3066 - masked_accuracy: 0.9164\n",
      "Epoch 13/20\n",
      "86/86 [==============================] - 2s 29ms/step - loss: 0.2564 - masked_accuracy: 0.9296\n",
      "Epoch 14/20\n",
      "86/86 [==============================] - 3s 29ms/step - loss: 0.2203 - masked_accuracy: 0.9410\n",
      "Epoch 15/20\n",
      "86/86 [==============================] - 2s 29ms/step - loss: 0.1888 - masked_accuracy: 0.9488\n",
      "Epoch 16/20\n",
      "86/86 [==============================] - 2s 29ms/step - loss: 0.1664 - masked_accuracy: 0.9542\n",
      "Epoch 17/20\n",
      "86/86 [==============================] - 2s 29ms/step - loss: 0.1499 - masked_accuracy: 0.9593\n",
      "Epoch 18/20\n",
      "86/86 [==============================] - 2s 28ms/step - loss: 0.1296 - masked_accuracy: 0.9647\n",
      "Epoch 19/20\n",
      "86/86 [==============================] - 2s 28ms/step - loss: 0.1156 - masked_accuracy: 0.9690\n",
      "Epoch 20/20\n",
      "86/86 [==============================] - 2s 28ms/step - loss: 0.1083 - masked_accuracy: 0.9701\n"
     ]
    },
    {
     "data": {
      "text/plain": [
       "<keras.callbacks.History at 0x16689e77130>"
      ]
     },
     "execution_count": 27,
     "metadata": {},
     "output_type": "execute_result"
    }
   ],
   "source": [
    "EPOCHS = 20\n",
    "model.fit(dataset, epochs=EPOCHS, verbose=1)\n",
    "\n",
    "# Epoch 20/20 loss: 0.1133 - masked_accuracy: 0.9696"
   ]
  },
  {
   "cell_type": "markdown",
   "id": "d2e4d947",
   "metadata": {},
   "source": [
    "## Step 5. 모델 평가하기"
   ]
  },
  {
   "cell_type": "markdown",
   "id": "869d49db",
   "metadata": {},
   "source": [
    "### 예측하기"
   ]
  },
  {
   "cell_type": "code",
   "execution_count": 28,
   "id": "8bf44936",
   "metadata": {},
   "outputs": [],
   "source": [
    "def decoder_inference(sentence):\n",
    "    s = preprocessing_sentence(sentence)\n",
    "\n",
    "    # 인코더 입력: [SOS] + (encode +1) + [EOS]\n",
    "    enc_ids = [SOS_ID] + [tid + 1 for tid in tokenizer.encode(s)] + [EOS_ID]\n",
    "    enc = tf.constant([enc_ids], dtype=tf.int32)          # (1, T_enc)\n",
    "\n",
    "    # 디코더 시작 시퀀스: [SOS]\n",
    "    dec = tf.constant([[SOS_ID]], dtype=tf.int32)         # (1, 1)\n",
    "\n",
    "    for _ in range(MAX_LEN_A - 1):                       # 최대 길이만큼 생성\n",
    "        out = model({'inputs': enc, 'dec_inputs': dec}, training=False)\n",
    "        logits = out['outputs'] if isinstance(out, dict) else out  # (1, t, V)\n",
    "\n",
    "        # 마지막 시점에서 다음 토큰 고르기 (greedy)\n",
    "        next_id = tf.argmax(logits[:, -1, :], axis=-1, output_type=tf.int32)  # (1,)\n",
    "\n",
    "        # EOS면 종료\n",
    "        if next_id[0] == EOS_ID:\n",
    "            break\n",
    "\n",
    "        # 디코더 시퀀스에 붙이기\n",
    "        dec = tf.concat([dec, tf.expand_dims(next_id, 1)], axis=1)  # (1, t+1)\n",
    "\n",
    "    # 최종 생성 ID 시퀀스 (1, T) -> (T,)\n",
    "    gen_ids = dec.numpy().tolist()[0]\n",
    "\n",
    "    # 특수토큰 제거 + 시프트 복원(-1)\n",
    "    toks = [tid - 1 for tid in gen_ids if tid not in (SOS_ID, EOS_ID, PAD_ID)]\n",
    "\n",
    "    return tokenizer.decode(toks)"
   ]
  },
  {
   "cell_type": "code",
   "execution_count": 29,
   "id": "76282e96",
   "metadata": {},
   "outputs": [],
   "source": [
    "def sentence_generation(sentence):\n",
    "    pred = decoder_inference(sentence)\n",
    "    print('입력 :', sentence)\n",
    "    print('출력 :', pred)\n",
    "    return pred"
   ]
  },
  {
   "cell_type": "code",
   "execution_count": 30,
   "id": "098aa2fd",
   "metadata": {},
   "outputs": [
    {
     "name": "stdout",
     "output_type": "stream",
     "text": [
      "입력 : 안녕\n",
      "출력 : 안녕하세요 .\n"
     ]
    },
    {
     "data": {
      "text/plain": [
       "'안녕하세요 .'"
      ]
     },
     "execution_count": 30,
     "metadata": {},
     "output_type": "execute_result"
    }
   ],
   "source": [
    "sentence_generation('안녕')"
   ]
  },
  {
   "cell_type": "code",
   "execution_count": 31,
   "id": "42423026",
   "metadata": {},
   "outputs": [
    {
     "name": "stdout",
     "output_type": "stream",
     "text": [
      "입력 : 이름이 뭐야?\n",
      "출력 : 위로봇이요 .\n"
     ]
    },
    {
     "data": {
      "text/plain": [
       "'위로봇이요 .'"
      ]
     },
     "execution_count": 31,
     "metadata": {},
     "output_type": "execute_result"
    }
   ],
   "source": [
    "sentence_generation('이름이 뭐야?')"
   ]
  },
  {
   "cell_type": "code",
   "execution_count": 32,
   "id": "0a7f977c",
   "metadata": {},
   "outputs": [
    {
     "name": "stdout",
     "output_type": "stream",
     "text": [
      "입력 : 위로봇아 나 좀 도와줘\n",
      "출력 : 저는 사람으로 태어나고 싶어요 .\n"
     ]
    },
    {
     "data": {
      "text/plain": [
       "'저는 사람으로 태어나고 싶어요 .'"
      ]
     },
     "execution_count": 32,
     "metadata": {},
     "output_type": "execute_result"
    }
   ],
   "source": [
    "sentence_generation('위로봇아 나 좀 도와줘')"
   ]
  },
  {
   "cell_type": "code",
   "execution_count": 33,
   "id": "91394dfc",
   "metadata": {},
   "outputs": [
    {
     "name": "stdout",
     "output_type": "stream",
     "text": [
      "입력 : 넌 생일이 언제야?\n",
      "출력 : 각자의 삶을 살고 있겠지요 .\n"
     ]
    },
    {
     "data": {
      "text/plain": [
       "'각자의 삶을 살고 있겠지요 .'"
      ]
     },
     "execution_count": 33,
     "metadata": {},
     "output_type": "execute_result"
    }
   ],
   "source": [
    "sentence_generation('넌 생일이 언제야?')"
   ]
  },
  {
   "cell_type": "code",
   "execution_count": 34,
   "id": "663b6213",
   "metadata": {},
   "outputs": [
    {
     "name": "stdout",
     "output_type": "stream",
     "text": [
      "입력 : Execuse me?\n",
      "출력 : 누구보다 조금씩 고치세요 .\n"
     ]
    },
    {
     "data": {
      "text/plain": [
       "'누구보다 조금씩 고치세요 .'"
      ]
     },
     "execution_count": 34,
     "metadata": {},
     "output_type": "execute_result"
    }
   ],
   "source": [
    "sentence_generation('Execuse me?')"
   ]
  }
 ],
 "metadata": {
  "kernelspec": {
   "display_name": "Python 3 (ipykernel)",
   "language": "python",
   "name": "python3"
  },
  "language_info": {
   "codemirror_mode": {
    "name": "ipython",
    "version": 3
   },
   "file_extension": ".py",
   "mimetype": "text/x-python",
   "name": "python",
   "nbconvert_exporter": "python",
   "pygments_lexer": "ipython3",
   "version": "3.13.5"
  }
 },
 "nbformat": 4,
 "nbformat_minor": 5
}
